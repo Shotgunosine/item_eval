{
 "cells": [
  {
   "cell_type": "code",
   "execution_count": 40,
   "id": "0ebf9cd1",
   "metadata": {},
   "outputs": [],
   "source": [
    "import pandas as pd\n",
    "import numpy as np\n",
    "pd.set_option('display.max_rows', 100)"
   ]
  },
  {
   "cell_type": "code",
   "execution_count": 31,
   "id": "64468f3b",
   "metadata": {},
   "outputs": [
    {
     "name": "stderr",
     "output_type": "stream",
     "text": [
      "/Users/nielsond/miniconda3/lib/python3.9/site-packages/openpyxl/worksheet/_read_only.py:79: UserWarning: Unknown extension is not supported and will be removed\n",
      "  for idx, row in parser.parse():\n"
     ]
    }
   ],
   "source": [
    "htqs = pd.read_excel('../data/Internalizing-Somatoform Items (DW).xlsx', skiprows=2,\n",
    "                                names=['id', 'scale', 'item', '_0', '_1', '_2', '_3']).drop(['_0', '_1', '_2', '_3'], axis=1)"
   ]
  },
  {
   "cell_type": "code",
   "execution_count": 32,
   "id": "2100a90d",
   "metadata": {},
   "outputs": [],
   "source": [
    "cmqs = pd.read_csv('../data/cogmood_questions.csv')\n",
    "cmqs = cmqs.rename({'Unnamed: 0': 'id'}, axis=1)\n",
    "htcm = cmqs.query(\"measure == 'HiTOP'\")"
   ]
  },
  {
   "cell_type": "code",
   "execution_count": 50,
   "id": "f3d46132",
   "metadata": {},
   "outputs": [
    {
     "data": {
      "text/plain": [
       "array(['Health Anxiety', 'Perfectionism', 'Conversion Symptoms',\n",
       "       'Agoraphobia', 'Traumatic Reactions', 'Binge Eating',\n",
       "       'Body Image and Weight Concerns', 'Euphoric Energy',\n",
       "       'Animal Phobia', 'Angry Hostility', 'Perseveration', 'NSSI',\n",
       "       'Recklessness', 'Cleaning', 'Disease Conviction', 'Hoarding',\n",
       "       'Compulsive Rituals', 'Grandiosity', 'Validity Item',\n",
       "       'Restrictive Eating and Purging', 'Nightmares',\n",
       "       'Body Dissatisfaction', 'Trichotillomania',\n",
       "       'Blood-Injection Phobia', 'Checking', 'Body Focus',\n",
       "       'Somatic Preoccupation', 'Bodily Distress Symptoms', 'Suicidality',\n",
       "       'Excoriation'], dtype=object)"
      ]
     },
     "execution_count": 50,
     "metadata": {},
     "output_type": "execute_result"
    }
   ],
   "source": [
    "htqs.loc[~htqs.item.isin(htcm.item)].scale.unique()"
   ]
  },
  {
   "cell_type": "code",
   "execution_count": 47,
   "id": "89fd3a66",
   "metadata": {},
   "outputs": [
    {
     "name": "stdout",
     "output_type": "stream",
     "text": [
      "157\n",
      "81\n",
      "34\n",
      "54\n",
      "243\n",
      "182\n",
      "69\n",
      "89\n",
      "50\n",
      "129\n",
      "265\n",
      "124\n",
      "231\n",
      "93\n",
      "67\n",
      "245\n",
      "281\n",
      "141\n",
      "40\n",
      "204\n",
      "21\n",
      "236\n",
      "280\n",
      "84\n",
      "120\n",
      "77\n",
      "92\n",
      "258\n",
      "39\n",
      "254\n",
      "215\n",
      "95\n",
      "106\n",
      "283\n",
      "16\n",
      "20\n",
      "189\n",
      "1\n",
      "136\n",
      "246\n",
      "248\n",
      "257\n",
      "114\n",
      "117\n",
      "250\n",
      "200\n",
      "160\n",
      "23\n",
      "165\n",
      "244\n",
      "9\n",
      "142\n",
      "230\n",
      "149\n",
      "247\n",
      "99\n",
      "66\n",
      "240\n",
      "222\n",
      "90\n",
      "113\n",
      "278\n",
      "203\n",
      "159\n",
      "123\n",
      "275\n",
      "268\n",
      "225\n",
      "143\n",
      "151\n",
      "181\n",
      "211\n",
      "17\n",
      "126\n",
      "5\n",
      "261\n",
      "220\n",
      "15\n",
      "72\n",
      "140\n",
      "109\n",
      "197\n",
      "104\n"
     ]
    }
   ],
   "source": [
    "for ii in htcm.loc[:, ['item']].merge(htqs.loc[:, ['id','item']], how='inner', on='item').id.values:\n",
    "    print(ii)"
   ]
  },
  {
   "cell_type": "code",
   "execution_count": null,
   "id": "057e7ac3",
   "metadata": {},
   "outputs": [],
   "source": []
  }
 ],
 "metadata": {
  "@webio": {
   "lastCommId": null,
   "lastKernelId": null
  },
  "kernelspec": {
   "display_name": "Python 3 (ipykernel)",
   "language": "python",
   "name": "python3"
  },
  "language_info": {
   "codemirror_mode": {
    "name": "ipython",
    "version": 3
   },
   "file_extension": ".py",
   "mimetype": "text/x-python",
   "name": "python",
   "nbconvert_exporter": "python",
   "pygments_lexer": "ipython3",
   "version": "3.9.17"
  }
 },
 "nbformat": 4,
 "nbformat_minor": 5
}
