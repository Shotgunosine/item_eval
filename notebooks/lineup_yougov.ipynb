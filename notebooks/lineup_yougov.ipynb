{
 "cells": [
  {
   "cell_type": "code",
   "execution_count": 1,
   "id": "0ebf9cd1",
   "metadata": {},
   "outputs": [],
   "source": [
    "import pandas as pd\n",
    "import numpy as np\n",
    "from scipy import stats\n",
    "from sklearn.feature_selection import mutual_info_classif\n",
    "import seaborn as sns\n",
    "from matplotlib import pyplot as plt\n",
    "%matplotlib inline\n",
    "pd.set_option('display.max_rows', 100)\n",
    "pd.set_option('display.max_columns', 500)"
   ]
  },
  {
   "cell_type": "code",
   "execution_count": 2,
   "id": "057e7ac3",
   "metadata": {},
   "outputs": [],
   "source": [
    "code_book = pd.read_csv('../data/yougov_codesheet_alignment.tsv', sep='\\t')\n",
    "ename_lut = {vn:en for vn, en in code_book.loc[code_book.ename.notnull(), ['var_name', 'ename']].values}"
   ]
  },
  {
   "cell_type": "code",
   "execution_count": 3,
   "id": "e53e7cb8-d6eb-4da1-a519-1768306cc00d",
   "metadata": {},
   "outputs": [],
   "source": [
    "tmp = code_book.query('ename.notnull()')\n",
    "scale_lut = {}\n",
    "for ss, df in tmp.loc[tmp.ename.str.contains('hitop') & ~tmp.ename.str.contains('today')].groupby('subscale'):\n",
    "    scale_name = ss.replace(\" \", \"_\").replace(\"/\", \"_\").replace(\"-\", \"_\")\n",
    "    items = df.ename.values\n",
    "    scale_lut[scale_name] = items"
   ]
  },
  {
   "cell_type": "code",
   "execution_count": 4,
   "id": "0456dce2-55d5-4cc9-ae2f-4874d3acd142",
   "metadata": {},
   "outputs": [],
   "source": [
    "dat = pd.read_csv('../data/NIMH0007_interim_num_OUTPUT.csv', dtype={'caseid':str}, engine='python')\n",
    "# drop the .0 that pandas appends for some reason\n",
    "dat['caseid'] = dat.caseid.str[:-2]\n",
    "dat = dat.rename(ename_lut, axis=1)"
   ]
  },
  {
   "cell_type": "code",
   "execution_count": 5,
   "id": "5c7aa228-3f2c-48f7-99e7-884792e07d57",
   "metadata": {},
   "outputs": [],
   "source": [
    "# clean mood diagnosis\n",
    "dat['mood_dx'] = np.nan\n",
    "dat['n_mood_dx'] = (dat.loc[:, ['FNM_Q25_1', 'FNM_Q25_2', 'FNM_Q25_3', 'FNM_Q25_4', 'FNM_Q25_5', 'FNM_Q25_6']]==1).sum(1)\n",
    "dat.loc[dat.FNM_Q25_955 == 1, 'mood_dx'] = 'other'\n",
    "dat.loc[dat.FNM_Q25_1 == 1, 'mood_dx'] = 'mdd'\n",
    "dat.loc[dat.FNM_Q25_2 == 1, 'mood_dx'] = 'persistent'\n",
    "dat.loc[dat.FNM_Q25_3 == 1, 'mood_dx'] = 'premenstrual'\n",
    "dat.loc[dat.FNM_Q25_4 == 1, 'mood_dx'] = 'bipolarI'\n",
    "dat.loc[dat.FNM_Q25_5 == 1, 'mood_dx'] = 'bipolarII'\n",
    "dat.loc[dat.FNM_Q25_6 == 1, 'mood_dx'] = 'cyclothymic'\n",
    "dat.loc[dat.n_mood_dx > 1, 'mood_dx'] = 'multiple'\n",
    "\n",
    "# clean other mood columns\n",
    "dat.loc[dat.mood_years == 999, 'mood_years'] = np.nan\n",
    "dat.loc[(dat.mood_bothered == 999) | (dat.mood_bothered == 2), 'mood_bothered'] = False\n",
    "dat.loc[dat.mood_bothered == 1, 'mood_bothered'] = True\n",
    "dat.mood_bothered = dat.mood_bothered.astype(bool)"
   ]
  },
  {
   "cell_type": "code",
   "execution_count": 6,
   "id": "d6f40e7e-93cd-45ea-8bed-c355fbe35dee",
   "metadata": {},
   "outputs": [],
   "source": [
    "# clean anxiety diagnosis\n",
    "dat['anxiety_dx'] = np.nan\n",
    "dat['n_anxiety_dx'] = (dat.loc[:, ['FNM_Q30_m_1',\n",
    "                                   'FNM_Q30_m_2',\n",
    "                                   'FNM_Q30_m_3', \n",
    "                                   'FNM_Q30_m_4', \n",
    "                                   'FNM_Q30_m_5',\n",
    "                                   'FNM_Q30_m_6',\n",
    "                                   'FNM_Q30_m_7',\n",
    "                                   'FNM_Q30_m_8',]]==1).sum(1)\n",
    "dat.loc[dat.FNM_Q30_m_955 == 1, 'anxiety_dx'] = 'other'\n",
    "dat.loc[dat.FNM_Q30_m_1 == 1, 'anxiety_dx'] = 'gad'\n",
    "dat.loc[dat.FNM_Q30_m_2 == 1, 'anxiety_dx'] = 'separation'\n",
    "dat.loc[dat.FNM_Q30_m_3 == 1, 'anxiety_dx'] = 'agoraphobia'\n",
    "dat.loc[dat.FNM_Q30_m_4 == 1, 'anxiety_dx'] = 'phobia'\n",
    "dat.loc[dat.FNM_Q30_m_5 == 1, 'anxiety_dx'] = 'social'\n",
    "dat.loc[dat.FNM_Q30_m_6 == 1, 'anxiety_dx'] = 'panic_disorder'\n",
    "dat.loc[dat.FNM_Q30_m_7 == 1, 'anxiety_dx'] = 'panic_attack'\n",
    "dat.loc[dat.FNM_Q30_m_8 == 1, 'anxiety_dx'] = 'mutism'\n",
    "\n",
    "dat.loc[dat.n_anxiety_dx > 1, 'anxiety_dx'] = 'multiple'\n",
    "\n",
    "# clean other mood columns\n",
    "dat.loc[dat.anxiety_years == 999, 'anxiety_years'] = np.nan\n",
    "dat.loc[(dat.anxiety_bothered == 999) | (dat.anxiety_bothered == 2), 'anxiety_bothered'] = False\n",
    "dat.loc[dat.anxiety_bothered == 1, 'anxiety_bothered'] = True\n",
    "dat.anxiety_bothered = dat.anxiety_bothered.astype(bool)"
   ]
  },
  {
   "cell_type": "code",
   "execution_count": 7,
   "id": "2d34fbb8-faa7-40ce-8d27-cb486166ffe5",
   "metadata": {},
   "outputs": [],
   "source": [
    "# clean attention diagnosis\n",
    "dat['attention_dx'] = np.nan\n",
    "dat['n_attention_dx'] = (dat.loc[:, ['FNM_Q35_m_1',\n",
    "                                   'FNM_Q35_m_2',\n",
    "                                  ]]==1).sum(1)\n",
    "dat.loc[dat.FNM_Q35_m_3 == 1, 'attention_dx'] = 'other'\n",
    "dat.loc[dat.FNM_Q35_m_1 == 1, 'attention_dx'] = 'adhd'\n",
    "dat.loc[dat.FNM_Q35_m_2 == 1, 'attention_dx'] = 'adhd'\n",
    "\n",
    "# clean other attention columns\n",
    "dat.loc[dat.attention_years == 999, 'attention_years'] = np.nan\n",
    "dat.loc[(dat.attention_bothered == 999) | (dat.attention_bothered == 2), 'attention_bothered'] = False\n",
    "dat.loc[dat.attention_bothered == 1, 'attention_bothered'] = True\n",
    "dat.attention_bothered = dat.attention_bothered.astype(bool)"
   ]
  },
  {
   "cell_type": "code",
   "execution_count": 8,
   "id": "a68d0e1c-f06b-4fcb-9906-b35a99486bd3",
   "metadata": {},
   "outputs": [],
   "source": [
    "# deal with attention checks\n",
    "dat['passed_checks'] = True\n",
    "dat['passed_grid'] = True\n",
    "dat['passed_list'] = True\n",
    "dat.loc[dat.check_moderately != 3, 'passed_checks'] = False\n",
    "dat.loc[dat.check_notatall != 1, 'passed_checks'] = False\n",
    "dat.loc[dat.check_moderately != 3, 'passed_grid'] = False\n",
    "dat.loc[dat.check_notatall != 1, 'passed_grid'] = False\n",
    "dat.loc[dat.todaycheck_1 != 1, 'passed_checks'] = False\n",
    "dat.loc[dat.todaycheck_2 != 1, 'passed_checks'] = False\n",
    "dat.loc[dat.todaycheck_1 != 1, 'passed_list'] = False\n",
    "dat.loc[dat.todaycheck_2 != 1, 'passed_list'] = False"
   ]
  },
  {
   "cell_type": "code",
   "execution_count": 9,
   "id": "93392570-234c-4ff9-ab91-71e87e5212a0",
   "metadata": {},
   "outputs": [
    {
     "data": {
      "text/plain": [
       "passed_checks    0.36\n",
       "passed_grid      0.16\n",
       "passed_list      0.32\n",
       "dtype: float64"
      ]
     },
     "execution_count": 9,
     "metadata": {},
     "output_type": "execute_result"
    }
   ],
   "source": [
    "1 - dat.loc[:, ['passed_checks', 'passed_grid', 'passed_list']].mean()"
   ]
  },
  {
   "cell_type": "code",
   "execution_count": 10,
   "id": "b03c6327-122e-48b4-8f22-a6f8daad08d8",
   "metadata": {},
   "outputs": [
    {
     "data": {
      "text/plain": [
       "0.76"
      ]
     },
     "execution_count": 10,
     "metadata": {},
     "output_type": "execute_result"
    }
   ],
   "source": [
    "((dat.todaycheck_1 == 1) | (dat.todaycheck_2==1)).mean()"
   ]
  },
  {
   "cell_type": "code",
   "execution_count": 12,
   "id": "62225668-075c-4081-9db0-112f6a8d31e5",
   "metadata": {},
   "outputs": [
    {
     "name": "stdout",
     "output_type": "stream",
     "text": [
      "inattention\n",
      "['inattention_1', 'inattention_2', 'inattention_3', 'inattention_4', 'inattention_5', 'inattention_6', 'inattention_7', 'inattention_8', 'inattention_9']\n",
      "hyperactivity\n",
      "['hyperactivity_1', 'hyperactivity_2', 'hyperactivity_3', 'hyperactivity_4', 'hyperactivity_5']\n",
      "impulsivity\n",
      "['impulsivity_1', 'impulsivity_2', 'impulsivity_3', 'impulsivity_4']\n",
      "sct\n",
      "['sct_1', 'sct_2', 'sct_3', 'sct_4', 'sct_5', 'sct_6', 'sct_7', 'sct_8', 'sct_9']\n",
      "gad\n",
      "['gad_1', 'gad_2', 'gad_3', 'gad_4', 'gad_5', 'gad_6', 'gad_7']\n",
      "phq\n",
      "['phq_1', 'phq_2', 'phq_3', 'phq_4', 'phq_5', 'phq_6', 'phq_7', 'phq_8']\n",
      "hitop\n",
      "['hitop157', 'hitop81', 'hitop34', 'hitop54', 'hitop243', 'hitop182', 'hitop69', 'hitop89', 'hitop50', 'hitop129', 'hitop265', 'hitop124', 'hitop231', 'hitop93', 'hitop67', 'hitop245', 'hitop281', 'hitop141', 'hitop40', 'hitop204', 'hitop21', 'hitop236', 'hitop280', 'hitop84', 'hitop120', 'hitop77', 'hitop92', 'hitop258', 'hitop39', 'hitop254', 'hitop215', 'hitop95', 'hitop106', 'hitop283', 'hitop16', 'hitop20', 'hitop189', 'hitop1', 'hitop136', 'hitop246', 'hitop248', 'hitop257', 'hitop114', 'hitop117', 'hitop250', 'hitop200', 'hitop160', 'hitop23', 'hitop165', 'hitop244', 'hitop9', 'hitop142', 'hitop230', 'hitop149', 'hitop247', 'hitop99', 'hitop66', 'hitop240', 'hitop222', 'hitop90', 'hitop113', 'hitop278', 'hitop203', 'hitop159', 'hitop123', 'hitop275', 'hitop268', 'hitop225', 'hitop143', 'hitop151', 'hitop181', 'hitop211', 'hitop17', 'hitop126', 'hitop5', 'hitop261', 'hitop220', 'hitop15', 'hitop72', 'hitop140', 'hitop109', 'hitop197', 'hitop104']\n"
     ]
    }
   ],
   "source": [
    "# subtract 1 from responses\n",
    "minus_1_cols = []\n",
    "m1_stems = ['inattention', 'hyperactivity', 'impulsivity', 'sct', 'gad', 'phq', 'hitop']\n",
    "for ms in m1_stems:\n",
    "    print(ms)\n",
    "    cols = list(dat.columns[dat.columns.str.contains(ms) & ~dat.columns.str.contains('today') & ~dat.columns.str.contains('sum')].values)\n",
    "    print(cols)\n",
    "    minus_1_cols.extend(cols)"
   ]
  },
  {
   "cell_type": "code",
   "execution_count": 13,
   "id": "19c1496e-f4ce-4ca8-8a6c-0253e8481167",
   "metadata": {},
   "outputs": [],
   "source": [
    "dat.loc[:, minus_1_cols] -= 1"
   ]
  },
  {
   "cell_type": "code",
   "execution_count": 14,
   "id": "ee97fdb5-5ce5-4b90-8ce8-8f6df37260be",
   "metadata": {},
   "outputs": [],
   "source": [
    "sum_cols = []\n",
    "for ms in m1_stems:\n",
    "    if ms != 'hitop':\n",
    "        cols = list(dat.columns[dat.columns.str.contains(ms) & ~dat.columns.str.contains('today') & ~dat.columns.str.contains('sum')].values)\n",
    "        dat[f'{ms}_sum'] = dat.loc[:, cols].sum(1)\n",
    "        sum_cols.append(ms + '_sum')\n",
    "hitop_sums = []\n",
    "for scale_name, items in scale_lut.items():\n",
    "    dat[scale_name] = dat.loc[:, items].sum(1)\n",
    "    hitop_sums.append(scale_name)"
   ]
  },
  {
   "cell_type": "code",
   "execution_count": 52,
   "id": "c923da4c-0da6-4635-a0b7-c2c6fd882ed2",
   "metadata": {},
   "outputs": [],
   "source": [
    "sum = 0\n",
    "for scale_name, items in scale_lut.items():\n",
    "    if scale_name != 'well_being':\n",
    "        sum += len(items)"
   ]
  },
  {
   "cell_type": "code",
   "execution_count": 54,
   "id": "68a8b569-60e9-4191-b06f-68a9d431ae9f",
   "metadata": {},
   "outputs": [
    {
     "data": {
      "text/plain": [
       "219"
      ]
     },
     "execution_count": 54,
     "metadata": {},
     "output_type": "execute_result"
    }
   ],
   "source": [
    "sum * 3"
   ]
  },
  {
   "cell_type": "code",
   "execution_count": 15,
   "id": "49c5808f-d6f6-491e-91c5-89824ad2f66b",
   "metadata": {},
   "outputs": [],
   "source": [
    "dat['hitop_sum'] = dat.loc[:, hitop_sums[:-1]].sum(1)"
   ]
  },
  {
   "cell_type": "code",
   "execution_count": 16,
   "id": "8704a019-df08-405c-b97b-690e15f97312",
   "metadata": {},
   "outputs": [],
   "source": [
    "dat['baars_sum'] = dat.inattention_sum + dat.hyperactivity_sum + dat.impulsivity_sum"
   ]
  },
  {
   "cell_type": "code",
   "execution_count": 19,
   "id": "b8c3253d-cb30-44ed-b012-ad88550a29be",
   "metadata": {},
   "outputs": [],
   "source": [
    "dat['moodanxiety_bothered'] = dat.mood_bothered | dat.anxiety_bothered"
   ]
  },
  {
   "cell_type": "code",
   "execution_count": 288,
   "id": "82396e44-05a9-4772-a55c-c445af4ee45f",
   "metadata": {},
   "outputs": [],
   "source": [
    "dat.loc[dat.passed_grid,['hitop_sum', 'baars_sum', 'phq_sum', 'gad_sum', 'mood_bothered',\n",
    "       'anxiety_bothered', 'attention_bothered', 'moodanxiety_bothered']].to_csv('../data/mitest_data.csv')"
   ]
  },
  {
   "cell_type": "code",
   "execution_count": null,
   "id": "c6302514-ba19-4a76-b7ea-47c8357fc153",
   "metadata": {},
   "outputs": [],
   "source": [
    "\ttarget\tbaars_nn\tbaars_bin\thitop_nn\thitop_bin\n",
    "0\tmoodanxiety_bothered\t0.089890\t0.090917\t0.072135\t0.073130\n",
    "1\tmood_bothered\t0.124953\t0.126019\t0.093051\t0.094098\n",
    "2\tanxiety_bothered\t0.116744\t0.116555\t0.108233\t0.110079\n"
   ]
  },
  {
   "cell_type": "code",
   "execution_count": 289,
   "id": "86b390e0-d7a8-4fac-b11b-b4f1bfc1e537",
   "metadata": {},
   "outputs": [],
   "source": [
    "def mi_to_rho(mi):\n",
    "    rho = np.sqrt(1-np.exp(-2 * mi))\n",
    "    return rho"
   ]
  },
  {
   "cell_type": "code",
   "execution_count": 290,
   "id": "c464d0ac-94e8-4009-87bb-f77e44696f49",
   "metadata": {},
   "outputs": [
    {
     "data": {
      "text/plain": [
       "0.4056427109257554"
      ]
     },
     "execution_count": 290,
     "metadata": {},
     "output_type": "execute_result"
    }
   ],
   "source": [
    "mi_to_rho(0.089890)"
   ]
  },
  {
   "cell_type": "code",
   "execution_count": 183,
   "id": "532190ed-ec2a-423e-94d0-40bbfef1583e",
   "metadata": {},
   "outputs": [
    {
     "data": {
      "text/plain": [
       "(SignificanceResult(statistic=0.8824897255047182, pvalue=5.384336814297461e-09),\n",
       " SignificanceResult(statistic=0.9182041598348734, pvalue=5.280085158790261e-07))"
      ]
     },
     "execution_count": 183,
     "metadata": {},
     "output_type": "execute_result"
    }
   ],
   "source": [
    "stats.spearmanr(dat.phq_sum + dat.gad_sum, dat.hitop_sum), stats.spearmanr(ok_dat.phq_sum + ok_dat.gad_sum, ok_dat.hitop_sum)"
   ]
  },
  {
   "cell_type": "code",
   "execution_count": 17,
   "id": "c7c5ebb8-cd22-4fa7-8c8b-7134e62814a1",
   "metadata": {},
   "outputs": [
    {
     "data": {
      "text/plain": [
       "array([0, 0])"
      ]
     },
     "execution_count": 17,
     "metadata": {},
     "output_type": "execute_result"
    }
   ],
   "source": [
    "mutual_info_classif(dat.loc[:, ['baars_sum', 'hitop_sum']], dat.attention_bothered)"
   ]
  },
  {
   "cell_type": "code",
   "execution_count": null,
   "id": "879bc933-595e-4af9-9118-9682a3740baf",
   "metadata": {},
   "outputs": [],
   "source": [
    "dat.query('attention_bothered == False').groupby(['mood_bothered', 'anxiety_bothered']).caseid.count()"
   ]
  },
  {
   "cell_type": "code",
   "execution_count": 243,
   "id": "705de35a-cabc-44bc-a469-e12e65db5c0f",
   "metadata": {},
   "outputs": [
    {
     "data": {
      "text/plain": [
       "mood_bothered  anxiety_bothered\n",
       "False          False               13\n",
       "               True                 3\n",
       "True           False                1\n",
       "               True                 5\n",
       "Name: caseid, dtype: int64"
      ]
     },
     "execution_count": 243,
     "metadata": {},
     "output_type": "execute_result"
    }
   ],
   "source": [
    "dat.query('attention_bothered == False').groupby(['mood_bothered', 'anxiety_bothered']).caseid.count()"
   ]
  },
  {
   "cell_type": "code",
   "execution_count": 244,
   "id": "fe881de5-d832-4ea7-930c-cc9e876c3b6f",
   "metadata": {},
   "outputs": [
    {
     "data": {
      "text/plain": [
       "SignificanceResult(statistic=21.666666666666668, pvalue=0.01088282202833286)"
      ]
     },
     "execution_count": 244,
     "metadata": {},
     "output_type": "execute_result"
    }
   ],
   "source": [
    "stats.fisher_exact([[13, 3], [1, 5]])"
   ]
  },
  {
   "cell_type": "code",
   "execution_count": 246,
   "id": "ea7afe3b-c5a6-4bd6-bc43-0ecf0340b790",
   "metadata": {},
   "outputs": [
    {
     "data": {
      "text/plain": [
       "moodanxiety_bothered  attention_bothered\n",
       "False                 False                 13\n",
       "                      True                   1\n",
       "True                  False                  9\n",
       "                      True                   2\n",
       "Name: caseid, dtype: int64"
      ]
     },
     "execution_count": 246,
     "metadata": {},
     "output_type": "execute_result"
    }
   ],
   "source": [
    "dat.groupby(['moodanxiety_bothered', 'attention_bothered']).caseid.count()"
   ]
  },
  {
   "cell_type": "code",
   "execution_count": 247,
   "id": "a1060983-b184-419f-8b33-6d640b2f7da2",
   "metadata": {},
   "outputs": [
    {
     "data": {
      "text/plain": [
       "SignificanceResult(statistic=2.888888888888889, pvalue=0.5647826086956521)"
      ]
     },
     "execution_count": 247,
     "metadata": {},
     "output_type": "execute_result"
    }
   ],
   "source": [
    "stats.fisher_exact([[13, 1], [9, 2]])"
   ]
  },
  {
   "cell_type": "code",
   "execution_count": 27,
   "id": "a3674c2e-0dbb-4e5d-b768-4a8c7384dab3",
   "metadata": {},
   "outputs": [],
   "source": [
    "baars_max = 18 * 3"
   ]
  },
  {
   "cell_type": "code",
   "execution_count": 55,
   "id": "1cdb4fac-7a1e-4ce5-bd32-dc4ceedc2e4d",
   "metadata": {},
   "outputs": [],
   "source": [
    "hitop_max = 73 * 3"
   ]
  },
  {
   "cell_type": "code",
   "execution_count": 93,
   "id": "4b7beb72-e543-4c5a-ba7b-8d38dbbe0d06",
   "metadata": {},
   "outputs": [],
   "source": [
    "pop_size = 1000000"
   ]
  },
  {
   "cell_type": "code",
   "execution_count": 94,
   "id": "cf1c0670-d631-41eb-bd13-c09be76b14fe",
   "metadata": {},
   "outputs": [],
   "source": [
    "nbins = int(np.round(np.sqrt(pop_size * 2)))"
   ]
  },
  {
   "cell_type": "code",
   "execution_count": 271,
   "id": "76997991-77a7-40fe-aa75-513280a97cc7",
   "metadata": {},
   "outputs": [],
   "source": [
    "perms = np.array([pd.DataFrame(np.arange(2 * subsamp_size)).sample(frac=1, replace=False).values for n in range(nperms+1)]).squeeze()\n",
    "rng = np.random.default_rng(12331948714351098341)\n",
    "random_states = rng.integers(0, 10000000, 10000)"
   ]
  },
  {
   "cell_type": "code",
   "execution_count": 95,
   "id": "82d8327d-a2ba-4ddb-b233-b559aa07e8ec",
   "metadata": {},
   "outputs": [],
   "source": [
    "baars_may_kde = stats.gaussian_kde(dat.query(\"moodanxiety_bothered\").baars_sum)\n",
    "baars_man_kde = stats.gaussian_kde(dat.query(\"~moodanxiety_bothered\").baars_sum)\n",
    "\n",
    "hitop_may_kde = stats.gaussian_kde(dat.query(\"moodanxiety_bothered\").hitop_sum)\n",
    "hitop_man_kde = stats.gaussian_kde(dat.query(\"~moodanxiety_bothered\").hitop_sum)"
   ]
  },
  {
   "cell_type": "code",
   "execution_count": 96,
   "id": "62ed9494-6826-4fa6-8207-881000a7ea41",
   "metadata": {},
   "outputs": [],
   "source": [
    "def bounded_sample(kde, sample_size, lower_bound, upper_bound):\n",
    "    samp = np.round(kde.resample(size=sample_size))\n",
    "    samp = samp[(samp >= lower_bound) & (samp <= upper_bound)]\n",
    "    while len(samp) < sample_size:\n",
    "        topup = np.round(kde.resample(size=sample_size - len(samp)))\n",
    "        topup = topup[(topup >= lower_bound) & (topup <= upper_bound)]\n",
    "        samp = np.hstack([samp, topup])\n",
    "    return samp"
   ]
  },
  {
   "cell_type": "code",
   "execution_count": 97,
   "id": "cb48f999-07cd-4978-aa40-710b7d68ddd4",
   "metadata": {},
   "outputs": [],
   "source": [
    "baars_may_samp = bounded_sample(baars_may_kde, pop_size, 0, baars_max)\n",
    "baars_man_samp = bounded_sample(baars_man_kde, pop_size, 0, baars_max)\n",
    "hitop_may_samp = bounded_sample(hitop_may_kde, pop_size, 0, hitop_max)\n",
    "hitop_man_samp = bounded_sample(hitop_man_kde, pop_size, 0, hitop_max)"
   ]
  },
  {
   "cell_type": "code",
   "execution_count": 98,
   "id": "fc7e1d40-2c93-430e-9bce-ca4b471aa3d5",
   "metadata": {},
   "outputs": [
    {
     "data": {
      "text/plain": [
       "<Axes: ylabel='Density'>"
      ]
     },
     "execution_count": 98,
     "metadata": {},
     "output_type": "execute_result"
    },
    {
     "data": {
      "image/png": "[encoded data removed]",
      "text/plain": [
       "<Figure size 640x480 with 1 Axes>"
      ]
     },
     "metadata": {},
     "output_type": "display_data"
    }
   ],
   "source": [
    "sns.kdeplot(baars_may_samp, cut=0)\n",
    "sns.kdeplot(baars_man_samp, cut=0)"
   ]
  },
  {
   "cell_type": "code",
   "execution_count": 99,
   "id": "a8453ef9-8477-4574-98f0-83bf980658ea",
   "metadata": {},
   "outputs": [
    {
     "data": {
      "text/plain": [
       "<Axes: ylabel='Density'>"
      ]
     },
     "execution_count": 99,
     "metadata": {},
     "output_type": "execute_result"
    },
    {
     "data": {
      "image/png": "[encoded data removed]",
      "text/plain": [
       "<Figure size 640x480 with 1 Axes>"
      ]
     },
     "metadata": {},
     "output_type": "display_data"
    }
   ],
   "source": [
    "sns.kdeplot(hitop_may_samp, cut=0)\n",
    "sns.kdeplot(hitop_man_samp, cut=0)"
   ]
  },
  {
   "cell_type": "code",
   "execution_count": 100,
   "id": "6dfb8fa5-a9e1-4fd2-ab4b-e0b7c31aa46c",
   "metadata": {},
   "outputs": [],
   "source": [
    "hitop_samp = np.hstack([hitop_may_samp, hitop_man_samp])\n",
    "baars_samp = np.hstack([baars_may_samp, baars_man_samp])\n",
    "ma_samp = np.hstack([np.ones(pop_size), np.zeros(pop_size)])"
   ]
  },
  {
   "cell_type": "code",
   "execution_count": 104,
   "id": "dc0a4d97-31dd-4381-a1a8-63675757fb95",
   "metadata": {},
   "outputs": [],
   "source": [
    "samp = pd.DataFrame(data=np.array([baars_samp, hitop_samp, ma_samp.astype(bool)]).T, columns=['baars_sum', 'hitop_sum', 'moodanxiety_bothered'])"
   ]
  },
  {
   "cell_type": "code",
   "execution_count": 109,
   "id": "ca8e49f5-25e2-42ae-a4b4-c188d9403968",
   "metadata": {},
   "outputs": [],
   "source": [
    "samp['moodanxiety_bothered'] = samp.moodanxiety_bothered.astype(bool)"
   ]
  },
  {
   "cell_type": "code",
   "execution_count": 110,
   "id": "ff2dca96-0b18-4cd8-a0bb-b9034da4ee0d",
   "metadata": {},
   "outputs": [],
   "source": [
    "samp['baars_bin'] = pd.cut(samp.baars_sum, nbins, labels=False)\n",
    "samp['hitop_bin'] = pd.cut(samp.hitop_sum, nbins, labels=False)"
   ]
  },
  {
   "cell_type": "code",
   "execution_count": 189,
   "id": "b50fc45f-93db-4b79-a425-5d35390aa140",
   "metadata": {},
   "outputs": [],
   "source": [
    "perm_res = []\n",
    "for permn in range(nperms):\n",
    "    perm_tmp = mutual_info_classif(samp.loc[:, ['baars_sum', 'baars_bin', 'hitop_sum' ,'hitop_bin']],\n",
    "                            samp.moodanxiety_bothered.sample(frac=1, replace=False).values,\n",
    "                            discrete_features=[False, True, False, True], n_neighbors=k)\n",
    "    perm_nn = perm_tmp[0] - perm_tmp[2]\n",
    "    perm_bin = perm_tmp[1] - perm_tmp[3]\n",
    "    perm_res.append([perm_nn, perm_bin])\n",
    "perm_res = np.array(perm_res)\n",
    "perm_limits = np.quantile(perm_res, [0.025, 0.975], axis=0)"
   ]
  },
  {
   "cell_type": "code",
   "execution_count": 190,
   "id": "ab7f950f-ddc5-4afd-a09d-a44f1499d6e3",
   "metadata": {},
   "outputs": [
    {
     "data": {
      "text/plain": [
       "array([[ 3.56692685e-04, -5.29775244e-05],\n",
       "       [ 1.68845374e-03, -3.03808798e-05]])"
      ]
     },
     "execution_count": 190,
     "metadata": {},
     "output_type": "execute_result"
    }
   ],
   "source": [
    "perm_limits"
   ]
  },
  {
   "cell_type": "code",
   "execution_count": 191,
   "id": "ed6514b0-17f1-4bc4-a15e-3dcad3e9b3d3",
   "metadata": {},
   "outputs": [],
   "source": [
    "tmp = mutual_info_classif(samp.loc[:, ['baars_sum', 'baars_bin', 'hitop_sum' ,'hitop_bin']],\n",
    "                    samp.moodanxiety_bothered,\n",
    "                    discrete_features=[False, True, False, True])"
   ]
  },
  {
   "cell_type": "code",
   "execution_count": 192,
   "id": "fb4b8363-7d40-4817-af41-066f6fb69355",
   "metadata": {},
   "outputs": [
    {
     "data": {
      "text/plain": [
       "(False, True, False, True)"
      ]
     },
     "execution_count": 192,
     "metadata": {},
     "output_type": "execute_result"
    }
   ],
   "source": [
    "hitop_wins_nn = (tmp[0] - tmp[2]) < perm_limits[0][0]\n",
    "baars_wins_nn = (tmp[0] - tmp[2]) > perm_limits[1][0]\n",
    "hitop_wins_bin = (tmp[1] - tmp[3]) < perm_limits[0][1]\n",
    "baars_wins_bin = (tmp[1] - tmp[3]) > perm_limits[1][1]\n",
    "hitop_wins_nn, baars_wins_nn, hitop_wins_bin, baars_wins_bin"
   ]
  },
  {
   "cell_type": "code",
   "execution_count": 116,
   "id": "6e4c0cdc-a612-438d-a241-8ff286e430c7",
   "metadata": {},
   "outputs": [],
   "source": [
    "subsamp_size = 500"
   ]
  },
  {
   "cell_type": "code",
   "execution_count": 117,
   "id": "261fbcb2-cdb5-415f-ac59-9d1dab7ff742",
   "metadata": {},
   "outputs": [
    {
     "data": {
      "text/html": [
       "<div>\n",
       "<style scoped>\n",
       "    .dataframe tbody tr th:only-of-type {\n",
       "        vertical-align: middle;\n",
       "    }\n",
       "\n",
       "    .dataframe tbody tr th {\n",
       "        vertical-align: top;\n",
       "    }\n",
       "\n",
       "    .dataframe thead th {\n",
       "        text-align: right;\n",
       "    }\n",
       "</style>\n",
       "<table border=\"1\" class=\"dataframe\">\n",
       "  <thead>\n",
       "    <tr style=\"text-align: right;\">\n",
       "      <th></th>\n",
       "      <th>baars_sum</th>\n",
       "      <th>hitop_sum</th>\n",
       "      <th>moodanxiety_bothered</th>\n",
       "      <th>baars_bin</th>\n",
       "      <th>hitop_bin</th>\n",
       "    </tr>\n",
       "  </thead>\n",
       "  <tbody>\n",
       "    <tr>\n",
       "      <th>315771</th>\n",
       "      <td>35.0</td>\n",
       "      <td>43.0</td>\n",
       "      <td>True</td>\n",
       "      <td>916</td>\n",
       "      <td>277</td>\n",
       "    </tr>\n",
       "    <tr>\n",
       "      <th>580936</th>\n",
       "      <td>23.0</td>\n",
       "      <td>126.0</td>\n",
       "      <td>True</td>\n",
       "      <td>602</td>\n",
       "      <td>813</td>\n",
       "    </tr>\n",
       "    <tr>\n",
       "      <th>158992</th>\n",
       "      <td>17.0</td>\n",
       "      <td>138.0</td>\n",
       "      <td>True</td>\n",
       "      <td>445</td>\n",
       "      <td>891</td>\n",
       "    </tr>\n",
       "    <tr>\n",
       "      <th>31002</th>\n",
       "      <td>28.0</td>\n",
       "      <td>110.0</td>\n",
       "      <td>True</td>\n",
       "      <td>733</td>\n",
       "      <td>710</td>\n",
       "    </tr>\n",
       "    <tr>\n",
       "      <th>90954</th>\n",
       "      <td>42.0</td>\n",
       "      <td>20.0</td>\n",
       "      <td>True</td>\n",
       "      <td>1099</td>\n",
       "      <td>129</td>\n",
       "    </tr>\n",
       "    <tr>\n",
       "      <th>...</th>\n",
       "      <td>...</td>\n",
       "      <td>...</td>\n",
       "      <td>...</td>\n",
       "      <td>...</td>\n",
       "      <td>...</td>\n",
       "    </tr>\n",
       "    <tr>\n",
       "      <th>15460</th>\n",
       "      <td>47.0</td>\n",
       "      <td>95.0</td>\n",
       "      <td>True</td>\n",
       "      <td>1230</td>\n",
       "      <td>613</td>\n",
       "    </tr>\n",
       "    <tr>\n",
       "      <th>862101</th>\n",
       "      <td>42.0</td>\n",
       "      <td>107.0</td>\n",
       "      <td>True</td>\n",
       "      <td>1099</td>\n",
       "      <td>690</td>\n",
       "    </tr>\n",
       "    <tr>\n",
       "      <th>536112</th>\n",
       "      <td>37.0</td>\n",
       "      <td>107.0</td>\n",
       "      <td>True</td>\n",
       "      <td>968</td>\n",
       "      <td>690</td>\n",
       "    </tr>\n",
       "    <tr>\n",
       "      <th>636666</th>\n",
       "      <td>28.0</td>\n",
       "      <td>61.0</td>\n",
       "      <td>True</td>\n",
       "      <td>733</td>\n",
       "      <td>393</td>\n",
       "    </tr>\n",
       "    <tr>\n",
       "      <th>930186</th>\n",
       "      <td>30.0</td>\n",
       "      <td>102.0</td>\n",
       "      <td>True</td>\n",
       "      <td>785</td>\n",
       "      <td>658</td>\n",
       "    </tr>\n",
       "  </tbody>\n",
       "</table>\n",
       "<p>500 rows × 5 columns</p>\n",
       "</div>"
      ],
      "text/plain": [
       "        baars_sum  hitop_sum  moodanxiety_bothered  baars_bin  hitop_bin\n",
       "315771       35.0       43.0                  True        916        277\n",
       "580936       23.0      126.0                  True        602        813\n",
       "158992       17.0      138.0                  True        445        891\n",
       "31002        28.0      110.0                  True        733        710\n",
       "90954        42.0       20.0                  True       1099        129\n",
       "...           ...        ...                   ...        ...        ...\n",
       "15460        47.0       95.0                  True       1230        613\n",
       "862101       42.0      107.0                  True       1099        690\n",
       "536112       37.0      107.0                  True        968        690\n",
       "636666       28.0       61.0                  True        733        393\n",
       "930186       30.0      102.0                  True        785        658\n",
       "\n",
       "[500 rows x 5 columns]"
      ]
     },
     "execution_count": 117,
     "metadata": {},
     "output_type": "execute_result"
    }
   ],
   "source": [
    "samp.query('moodanxiety_bothered').sample(n=subsamp_size)"
   ]
  },
  {
   "cell_type": "code",
   "execution_count": 128,
   "id": "2f2973c4-9846-4537-b14e-4805e5a20aa6",
   "metadata": {},
   "outputs": [
    {
     "data": {
      "text/plain": [
       "32"
      ]
     },
     "execution_count": 128,
     "metadata": {},
     "output_type": "execute_result"
    }
   ],
   "source": [
    "int(np.round(np.sqrt(2 * subsamp_size)))"
   ]
  },
  {
   "cell_type": "code",
   "execution_count": 156,
   "id": "5fd10ab3-553b-4421-9a7c-33a0ff70082d",
   "metadata": {},
   "outputs": [
    {
     "data": {
      "text/plain": [
       "(0.012861150000000009, 0.008780789999999997)"
      ]
     },
     "execution_count": 156,
     "metadata": {},
     "output_type": "execute_result"
    }
   ],
   "source": [
    "0.06674662 - 0.05388547, 0.06167399 -  0.0528932"
   ]
  },
  {
   "cell_type": "code",
   "execution_count": 272,
   "id": "7f5102f4-d4be-4e19-8ba6-ba0598f26aac",
   "metadata": {},
   "outputs": [],
   "source": [
    "subsamp_size = 250\n",
    "ks = np.arange(1, 11).astype(int)\n",
    "nbins = (np.arange(1, 11) / 5 *  np.round(np.sqrt(2 * subsamp_size))).astype(int)\n",
    "n_subsamps = 100\n",
    "nperms = 500\n",
    "res = []\n",
    "#for k, subsamp_nbins in zip(ks, nbins):\n",
    "k = 3\n",
    "subsamp_nbins = 22\n",
    "rsix = 0\n",
    "for ssn in range(n_subsamps):\n",
    "        subsamp = pd.concat([samp.query('moodanxiety_bothered').sample(n=subsamp_size, replace=False, random_state=random_states[rsix]),\n",
    "                             samp.query('~moodanxiety_bothered').sample(n=subsamp_size, replace=False, random_state=random_states[rsix])])\n",
    "        subsamp['baars_bin'] = pd.cut(subsamp.baars_sum, subsamp_nbins, labels=False)\n",
    "        subsamp['hitop_bin'] = pd.cut(subsamp.hitop_sum, subsamp_nbins, labels=False)\n",
    "        tmp = mutual_info_classif(subsamp.loc[:, ['baars_sum', 'baars_bin', 'hitop_sum' ,'hitop_bin']],\n",
    "                        subsamp.moodanxiety_bothered,\n",
    "                        discrete_features=[False, True, False, True], n_neighbors=k)\n",
    "\n",
    "        perm_res = []\n",
    "        for permn in range(nperms):\n",
    "            perm_tmp = mutual_info_classif(subsamp.loc[:, ['baars_sum', 'baars_bin', 'hitop_sum' ,'hitop_bin']],\n",
    "                                    subsamp.moodanxiety_bothered.iloc[perms[permn]].values,\n",
    "                                    discrete_features=[False, True, False, True], n_neighbors=k)\n",
    "            perm_nn = perm_tmp[0] - perm_tmp[2]\n",
    "            perm_bin = perm_tmp[1] - perm_tmp[3]\n",
    "            perm_res.append([perm_nn, perm_bin])\n",
    "        perm_res = np.array(perm_res)\n",
    "        perm_limits = np.quantile(perm_res, [0.025, 0.975], axis=0)\n",
    "        \n",
    "\n",
    "        row = dict(\n",
    "            subsamp_size=subsamp_size,\n",
    "            subsamp_nbins=subsamp_nbins,\n",
    "            k=k,\n",
    "            ssn=ssn,\n",
    "            baars_nn=tmp[0],\n",
    "            baars_bin=tmp[1],\n",
    "            hitop_nn=tmp[2],\n",
    "            hitop_bin=tmp[3],\n",
    "            hitop_wins_nn = (tmp[0] - tmp[2]) < perm_limits[0][0],\n",
    "            baars_wins_nn = (tmp[0] - tmp[2]) > perm_limits[1][0],\n",
    "            hitop_wins_bin = (tmp[1] - tmp[3]) < perm_limits[0][1],\n",
    "            baars_wins_bin = (tmp[1] - tmp[3]) > perm_limits[1][1]\n",
    "        )\n",
    "        res.append(row)\n",
    "        rsix += 1\n",
    "res = pd.DataFrame(res)\n"
   ]
  },
  {
   "cell_type": "code",
   "execution_count": 273,
   "id": "ea7eef94-ff76-4477-8bfe-5bfa94f7a71e",
   "metadata": {},
   "outputs": [],
   "source": [
    "def run_sim(k, subsamp_nbins, ssn, samp, perms, subsamp_size, nperms, n_subsamps, random_state):\n",
    "    subsamp = pd.concat([samp.query('moodanxiety_bothered').sample(n=subsamp_size, random_state=random_state, replace=False),\n",
    "                         samp.query('~moodanxiety_bothered').sample(n=subsamp_size, random_state=random_state, replace=False)])\n",
    "    subsamp['baars_bi n'] = pd.cut(subsamp.baars_sum, subsamp_nbins, labels=False)\n",
    "    subsamp['hitop_bin'] = pd.cut(subsamp.hitop_sum, subsamp_nbins, labels=False)\n",
    "    tmp = mutual_info_classif(subsamp.loc[:, ['baars_sum', 'baars_bin', 'hitop_sum' ,'hitop_bin']],\n",
    "                    subsamp.moodanxiety_bothered,\n",
    "                    discrete_features=[False, True, False, True], n_neighbors=k)\n",
    "\n",
    "    perm_res = []\n",
    "    for permn in range(nperms):\n",
    "        perm_tmp = mutual_info_classif(subsamp.loc[:, ['baars_sum', 'baars_bin', 'hitop_sum' ,'hitop_bin']],\n",
    "                                subsamp.moodanxiety_bothered.iloc[perms[permn]].values,\n",
    "                                discrete_features=[False, True, False, True], n_neighbors=k)\n",
    "        perm_nn = perm_tmp[0] - perm_tmp[2]\n",
    "        perm_bin = perm_tmp[1] - perm_tmp[3]\n",
    "        perm_res.append([perm_nn, perm_bin])\n",
    "    perm_res = np.array(perm_res)\n",
    "    perm_limits = np.quantile(perm_res, [0.025, 0.975], axis=0)\n",
    "    \n",
    "\n",
    "    row = dict(\n",
    "        subsamp_size=subsamp_size,\n",
    "        subsamp_nbins=subsamp_nbins,\n",
    "        k=k,\n",
    "        ssn=ssn,\n",
    "        baars_nn=tmp[0],\n",
    "        baars_bin=tmp[1],\n",
    "        hitop_nn=tmp[2],\n",
    "        hitop_bin=tmp[3],\n",
    "        hitop_wins_nn = (tmp[0] - tmp[2]) < perm_limits[0][0],\n",
    "        baars_wins_nn = (tmp[0] - tmp[2]) > perm_limits[1][0],\n",
    "        hitop_wins_bin = (tmp[1] - tmp[3]) < perm_limits[0][1],\n",
    "        baars_wins_bin = (tmp[1] - tmp[3]) > perm_limits[1][1]\n",
    "    )\n",
    "    return row"
   ]
  },
  {
   "cell_type": "code",
   "execution_count": 204,
   "id": "064cfa40-1e35-4f98-975b-eab987a2f896",
   "metadata": {},
   "outputs": [],
   "source": [
    "from joblib import Parallel, delayed"
   ]
  },
  {
   "cell_type": "code",
   "execution_count": 270,
   "id": "b68f6a52-9a64-4fd0-ba5c-ce2282c05a40",
   "metadata": {},
   "outputs": [],
   "source": []
  },
  {
   "cell_type": "code",
   "execution_count": 280,
   "id": "373283d2-267b-457e-a588-7594505007dd",
   "metadata": {},
   "outputs": [],
   "source": [
    "jobs = []\n",
    "rsix = 0\n",
    "for k, subsamp_nbins in zip(ks, nbins):\n",
    "    for ssn in range(n_subsamps):\n",
    "        jobs.append(delayed(run_sim)(k, subsamp_nbins, ssn, samp, perms, subsamp_size, nperms, n_subsamps, random_states[rsix]))\n",
    "        rsix += 1"
   ]
  },
  {
   "cell_type": "code",
   "execution_count": 281,
   "id": "b6c6b312-8940-43db-85d1-7fe06fcd8b82",
   "metadata": {},
   "outputs": [
    {
     "name": "stderr",
     "output_type": "stream",
     "text": [
      "[Parallel(n_jobs=1)]: Done   1 tasks      | elapsed:    4.1s\n",
      "[Parallel(n_jobs=1)]: Done   4 tasks      | elapsed:   16.9s\n",
      "[Parallel(n_jobs=1)]: Done   7 tasks      | elapsed:   30.6s\n",
      "[Parallel(n_jobs=1)]: Done  12 tasks      | elapsed:   52.0s\n",
      "[Parallel(n_jobs=1)]: Done  17 tasks      | elapsed:  1.2min\n",
      "[Parallel(n_jobs=1)]: Done  24 tasks      | elapsed:  1.7min\n",
      "[Parallel(n_jobs=1)]: Done  31 tasks      | elapsed:  2.2min\n",
      "[Parallel(n_jobs=1)]: Done  40 tasks      | elapsed:  2.9min\n",
      "[Parallel(n_jobs=1)]: Done  49 tasks      | elapsed:  3.6min\n",
      "[Parallel(n_jobs=1)]: Done  60 tasks      | elapsed:  4.4min\n",
      "[Parallel(n_jobs=1)]: Done  71 tasks      | elapsed:  5.2min\n",
      "[Parallel(n_jobs=1)]: Done  84 tasks      | elapsed:  6.1min\n",
      "[Parallel(n_jobs=1)]: Done  97 tasks      | elapsed:  7.1min\n",
      "[Parallel(n_jobs=1)]: Done 112 tasks      | elapsed:  8.2min\n",
      "[Parallel(n_jobs=1)]: Done 127 tasks      | elapsed:  9.3min\n",
      "[Parallel(n_jobs=1)]: Done 144 tasks      | elapsed: 10.5min\n",
      "[Parallel(n_jobs=1)]: Done 161 tasks      | elapsed: 11.8min\n",
      "[Parallel(n_jobs=1)]: Done 180 tasks      | elapsed: 13.2min\n",
      "[Parallel(n_jobs=1)]: Done 199 tasks      | elapsed: 14.5min\n",
      "[Parallel(n_jobs=1)]: Done 220 tasks      | elapsed: 15.9min\n",
      "[Parallel(n_jobs=1)]: Done 241 tasks      | elapsed: 17.4min\n",
      "[Parallel(n_jobs=1)]: Done 264 tasks      | elapsed: 19.0min\n",
      "[Parallel(n_jobs=1)]: Done 287 tasks      | elapsed: 20.5min\n",
      "[Parallel(n_jobs=1)]: Done 312 tasks      | elapsed: 22.3min\n",
      "[Parallel(n_jobs=1)]: Done 337 tasks      | elapsed: 24.1min\n",
      "[Parallel(n_jobs=1)]: Done 364 tasks      | elapsed: 26.0min\n",
      "[Parallel(n_jobs=1)]: Done 391 tasks      | elapsed: 27.9min\n",
      "[Parallel(n_jobs=1)]: Done 420 tasks      | elapsed: 30.1min\n",
      "[Parallel(n_jobs=1)]: Done 449 tasks      | elapsed: 32.4min\n",
      "[Parallel(n_jobs=1)]: Done 480 tasks      | elapsed: 34.8min\n",
      "[Parallel(n_jobs=1)]: Done 511 tasks      | elapsed: 37.1min\n",
      "[Parallel(n_jobs=1)]: Done 544 tasks      | elapsed: 39.7min\n",
      "[Parallel(n_jobs=1)]: Done 577 tasks      | elapsed: 42.2min\n",
      "[Parallel(n_jobs=1)]: Done 612 tasks      | elapsed: 44.9min\n",
      "[Parallel(n_jobs=1)]: Done 647 tasks      | elapsed: 47.5min\n",
      "[Parallel(n_jobs=1)]: Done 684 tasks      | elapsed: 50.5min\n",
      "[Parallel(n_jobs=1)]: Done 721 tasks      | elapsed: 53.5min\n",
      "[Parallel(n_jobs=1)]: Done 760 tasks      | elapsed: 56.7min\n",
      "[Parallel(n_jobs=1)]: Done 799 tasks      | elapsed: 59.9min\n",
      "[Parallel(n_jobs=1)]: Done 840 tasks      | elapsed: 63.1min\n",
      "[Parallel(n_jobs=1)]: Done 881 tasks      | elapsed: 66.3min\n",
      "[Parallel(n_jobs=1)]: Done 924 tasks      | elapsed: 69.8min\n",
      "[Parallel(n_jobs=1)]: Done 967 tasks      | elapsed: 73.5min\n"
     ]
    }
   ],
   "source": [
    "pres = Parallel(n_jobs=1, verbose=10)(jobs)"
   ]
  },
  {
   "cell_type": "code",
   "execution_count": 276,
   "id": "3577f084-de09-4c02-a1b9-4cf549523150",
   "metadata": {},
   "outputs": [],
   "source": [
    "res = pd.DataFrame(res)"
   ]
  },
  {
   "cell_type": "code",
   "execution_count": 282,
   "id": "2445aa00-0a69-49a3-af26-e5963904bc06",
   "metadata": {},
   "outputs": [],
   "source": [
    "pres = pd.DataFrame(pres)"
   ]
  },
  {
   "cell_type": "code",
   "execution_count": null,
   "id": "8bb9018e-6d27-463d-9c8e-63c2e82b6ca2",
   "metadata": {},
   "outputs": [],
   "source": []
  },
  {
   "cell_type": "code",
   "execution_count": 278,
   "id": "3c1f37b2-ab22-46ae-9f85-67da75a30513",
   "metadata": {},
   "outputs": [
    {
     "data": {
      "text/html": [
       "<div>\n",
       "<style scoped>\n",
       "    .dataframe tbody tr th:only-of-type {\n",
       "        vertical-align: middle;\n",
       "    }\n",
       "\n",
       "    .dataframe tbody tr th {\n",
       "        vertical-align: top;\n",
       "    }\n",
       "\n",
       "    .dataframe thead th {\n",
       "        text-align: right;\n",
       "    }\n",
       "</style>\n",
       "<table border=\"1\" class=\"dataframe\">\n",
       "  <thead>\n",
       "    <tr style=\"text-align: right;\">\n",
       "      <th></th>\n",
       "      <th></th>\n",
       "      <th>hitop_wins_nn</th>\n",
       "      <th>baars_wins_nn</th>\n",
       "      <th>hitop_wins_bin</th>\n",
       "      <th>baars_wins_bin</th>\n",
       "    </tr>\n",
       "    <tr>\n",
       "      <th>subsamp_nbins</th>\n",
       "      <th>k</th>\n",
       "      <th></th>\n",
       "      <th></th>\n",
       "      <th></th>\n",
       "      <th></th>\n",
       "    </tr>\n",
       "  </thead>\n",
       "  <tbody>\n",
       "    <tr>\n",
       "      <th>22</th>\n",
       "      <th>3</th>\n",
       "      <td>0.06</td>\n",
       "      <td>0.2</td>\n",
       "      <td>0.1</td>\n",
       "      <td>0.32</td>\n",
       "    </tr>\n",
       "  </tbody>\n",
       "</table>\n",
       "</div>"
      ],
      "text/plain": [
       "                 hitop_wins_nn  baars_wins_nn  hitop_wins_bin  baars_wins_bin\n",
       "subsamp_nbins k                                                              \n",
       "22            3           0.06            0.2             0.1            0.32"
      ]
     },
     "execution_count": 278,
     "metadata": {},
     "output_type": "execute_result"
    }
   ],
   "source": [
    "res.groupby(['subsamp_nbins', 'k'])[['hitop_wins_nn', 'baars_wins_nn', 'hitop_wins_bin', 'baars_wins_bin']].mean()"
   ]
  },
  {
   "cell_type": "code",
   "execution_count": 283,
   "id": "07b3ef42-1ed5-4db9-8b59-76e98e359edb",
   "metadata": {},
   "outputs": [
    {
     "data": {
      "text/html": [
       "<div>\n",
       "<style scoped>\n",
       "    .dataframe tbody tr th:only-of-type {\n",
       "        vertical-align: middle;\n",
       "    }\n",
       "\n",
       "    .dataframe tbody tr th {\n",
       "        vertical-align: top;\n",
       "    }\n",
       "\n",
       "    .dataframe thead th {\n",
       "        text-align: right;\n",
       "    }\n",
       "</style>\n",
       "<table border=\"1\" class=\"dataframe\">\n",
       "  <thead>\n",
       "    <tr style=\"text-align: right;\">\n",
       "      <th></th>\n",
       "      <th></th>\n",
       "      <th>hitop_wins_nn</th>\n",
       "      <th>baars_wins_nn</th>\n",
       "      <th>hitop_wins_bin</th>\n",
       "      <th>baars_wins_bin</th>\n",
       "    </tr>\n",
       "    <tr>\n",
       "      <th>subsamp_nbins</th>\n",
       "      <th>k</th>\n",
       "      <th></th>\n",
       "      <th></th>\n",
       "      <th></th>\n",
       "      <th></th>\n",
       "    </tr>\n",
       "  </thead>\n",
       "  <tbody>\n",
       "    <tr>\n",
       "      <th>4</th>\n",
       "      <th>1</th>\n",
       "      <td>0.07</td>\n",
       "      <td>0.15</td>\n",
       "      <td>0.08</td>\n",
       "      <td>0.32</td>\n",
       "    </tr>\n",
       "    <tr>\n",
       "      <th>8</th>\n",
       "      <th>2</th>\n",
       "      <td>0.09</td>\n",
       "      <td>0.19</td>\n",
       "      <td>0.10</td>\n",
       "      <td>0.27</td>\n",
       "    </tr>\n",
       "    <tr>\n",
       "      <th>13</th>\n",
       "      <th>3</th>\n",
       "      <td>0.08</td>\n",
       "      <td>0.22</td>\n",
       "      <td>0.11</td>\n",
       "      <td>0.19</td>\n",
       "    </tr>\n",
       "    <tr>\n",
       "      <th>17</th>\n",
       "      <th>4</th>\n",
       "      <td>0.11</td>\n",
       "      <td>0.19</td>\n",
       "      <td>0.09</td>\n",
       "      <td>0.15</td>\n",
       "    </tr>\n",
       "    <tr>\n",
       "      <th>22</th>\n",
       "      <th>5</th>\n",
       "      <td>0.13</td>\n",
       "      <td>0.22</td>\n",
       "      <td>0.13</td>\n",
       "      <td>0.21</td>\n",
       "    </tr>\n",
       "    <tr>\n",
       "      <th>26</th>\n",
       "      <th>6</th>\n",
       "      <td>0.07</td>\n",
       "      <td>0.25</td>\n",
       "      <td>0.07</td>\n",
       "      <td>0.20</td>\n",
       "    </tr>\n",
       "    <tr>\n",
       "      <th>30</th>\n",
       "      <th>7</th>\n",
       "      <td>0.09</td>\n",
       "      <td>0.32</td>\n",
       "      <td>0.11</td>\n",
       "      <td>0.21</td>\n",
       "    </tr>\n",
       "    <tr>\n",
       "      <th>35</th>\n",
       "      <th>8</th>\n",
       "      <td>0.20</td>\n",
       "      <td>0.21</td>\n",
       "      <td>0.13</td>\n",
       "      <td>0.17</td>\n",
       "    </tr>\n",
       "    <tr>\n",
       "      <th>39</th>\n",
       "      <th>9</th>\n",
       "      <td>0.11</td>\n",
       "      <td>0.30</td>\n",
       "      <td>0.13</td>\n",
       "      <td>0.14</td>\n",
       "    </tr>\n",
       "    <tr>\n",
       "      <th>44</th>\n",
       "      <th>10</th>\n",
       "      <td>0.10</td>\n",
       "      <td>0.26</td>\n",
       "      <td>0.06</td>\n",
       "      <td>0.16</td>\n",
       "    </tr>\n",
       "  </tbody>\n",
       "</table>\n",
       "</div>"
      ],
      "text/plain": [
       "                  hitop_wins_nn  baars_wins_nn  hitop_wins_bin  baars_wins_bin\n",
       "subsamp_nbins k                                                               \n",
       "4             1            0.07           0.15            0.08            0.32\n",
       "8             2            0.09           0.19            0.10            0.27\n",
       "13            3            0.08           0.22            0.11            0.19\n",
       "17            4            0.11           0.19            0.09            0.15\n",
       "22            5            0.13           0.22            0.13            0.21\n",
       "26            6            0.07           0.25            0.07            0.20\n",
       "30            7            0.09           0.32            0.11            0.21\n",
       "35            8            0.20           0.21            0.13            0.17\n",
       "39            9            0.11           0.30            0.13            0.14\n",
       "44            10           0.10           0.26            0.06            0.16"
      ]
     },
     "execution_count": 283,
     "metadata": {},
     "output_type": "execute_result"
    }
   ],
   "source": [
    "pres.groupby(['subsamp_nbins', 'k'])[['hitop_wins_nn', 'baars_wins_nn', 'hitop_wins_bin', 'baars_wins_bin']].mean()"
   ]
  },
  {
   "cell_type": "code",
   "execution_count": 209,
   "id": "1fb77aa4-1ba6-4f38-bb4f-74e55e595b90",
   "metadata": {},
   "outputs": [
    {
     "data": {
      "text/html": [
       "<div>\n",
       "<style scoped>\n",
       "    .dataframe tbody tr th:only-of-type {\n",
       "        vertical-align: middle;\n",
       "    }\n",
       "\n",
       "    .dataframe tbody tr th {\n",
       "        vertical-align: top;\n",
       "    }\n",
       "\n",
       "    .dataframe thead th {\n",
       "        text-align: right;\n",
       "    }\n",
       "</style>\n",
       "<table border=\"1\" class=\"dataframe\">\n",
       "  <thead>\n",
       "    <tr style=\"text-align: right;\">\n",
       "      <th></th>\n",
       "      <th></th>\n",
       "      <th>hitop_wins_nn</th>\n",
       "      <th>baars_wins_nn</th>\n",
       "      <th>hitop_wins_bin</th>\n",
       "      <th>baars_wins_bin</th>\n",
       "    </tr>\n",
       "    <tr>\n",
       "      <th>subsamp_nbins</th>\n",
       "      <th>k</th>\n",
       "      <th></th>\n",
       "      <th></th>\n",
       "      <th></th>\n",
       "      <th></th>\n",
       "    </tr>\n",
       "  </thead>\n",
       "  <tbody>\n",
       "    <tr>\n",
       "      <th>4</th>\n",
       "      <th>1</th>\n",
       "      <td>0.11</td>\n",
       "      <td>0.17</td>\n",
       "      <td>0.19</td>\n",
       "      <td>0.49</td>\n",
       "    </tr>\n",
       "    <tr>\n",
       "      <th>8</th>\n",
       "      <th>2</th>\n",
       "      <td>0.10</td>\n",
       "      <td>0.19</td>\n",
       "      <td>0.17</td>\n",
       "      <td>0.43</td>\n",
       "    </tr>\n",
       "    <tr>\n",
       "      <th>13</th>\n",
       "      <th>3</th>\n",
       "      <td>0.15</td>\n",
       "      <td>0.25</td>\n",
       "      <td>0.19</td>\n",
       "      <td>0.38</td>\n",
       "    </tr>\n",
       "    <tr>\n",
       "      <th>17</th>\n",
       "      <th>4</th>\n",
       "      <td>0.08</td>\n",
       "      <td>0.23</td>\n",
       "      <td>0.11</td>\n",
       "      <td>0.36</td>\n",
       "    </tr>\n",
       "    <tr>\n",
       "      <th>22</th>\n",
       "      <th>5</th>\n",
       "      <td>0.14</td>\n",
       "      <td>0.24</td>\n",
       "      <td>0.22</td>\n",
       "      <td>0.30</td>\n",
       "    </tr>\n",
       "    <tr>\n",
       "      <th>26</th>\n",
       "      <th>6</th>\n",
       "      <td>0.11</td>\n",
       "      <td>0.31</td>\n",
       "      <td>0.09</td>\n",
       "      <td>0.29</td>\n",
       "    </tr>\n",
       "    <tr>\n",
       "      <th>30</th>\n",
       "      <th>7</th>\n",
       "      <td>0.18</td>\n",
       "      <td>0.23</td>\n",
       "      <td>0.22</td>\n",
       "      <td>0.20</td>\n",
       "    </tr>\n",
       "    <tr>\n",
       "      <th>35</th>\n",
       "      <th>8</th>\n",
       "      <td>0.08</td>\n",
       "      <td>0.20</td>\n",
       "      <td>0.09</td>\n",
       "      <td>0.17</td>\n",
       "    </tr>\n",
       "    <tr>\n",
       "      <th>39</th>\n",
       "      <th>9</th>\n",
       "      <td>0.11</td>\n",
       "      <td>0.24</td>\n",
       "      <td>0.14</td>\n",
       "      <td>0.18</td>\n",
       "    </tr>\n",
       "    <tr>\n",
       "      <th>44</th>\n",
       "      <th>10</th>\n",
       "      <td>0.09</td>\n",
       "      <td>0.20</td>\n",
       "      <td>0.13</td>\n",
       "      <td>0.16</td>\n",
       "    </tr>\n",
       "  </tbody>\n",
       "</table>\n",
       "</div>"
      ],
      "text/plain": [
       "                  hitop_wins_nn  baars_wins_nn  hitop_wins_bin  baars_wins_bin\n",
       "subsamp_nbins k                                                               \n",
       "4             1            0.11           0.17            0.19            0.49\n",
       "8             2            0.10           0.19            0.17            0.43\n",
       "13            3            0.15           0.25            0.19            0.38\n",
       "17            4            0.08           0.23            0.11            0.36\n",
       "22            5            0.14           0.24            0.22            0.30\n",
       "26            6            0.11           0.31            0.09            0.29\n",
       "30            7            0.18           0.23            0.22            0.20\n",
       "35            8            0.08           0.20            0.09            0.17\n",
       "39            9            0.11           0.24            0.14            0.18\n",
       "44            10           0.09           0.20            0.13            0.16"
      ]
     },
     "execution_count": 209,
     "metadata": {},
     "output_type": "execute_result"
    }
   ],
   "source": [
    "res.groupby(['subsamp_nbins', 'k'])[['hitop_wins_nn', 'baars_wins_nn', 'hitop_wins_bin', 'baars_wins_bin']].mean()"
   ]
  },
  {
   "cell_type": "code",
   "execution_count": 165,
   "id": "93fe48be-cbcc-4079-a493-da2c5ce926f6",
   "metadata": {},
   "outputs": [],
   "source": [
    "res.groupby('subsamp_nbins')[['baars_bin', 'hitop_bin']].agg(['mean', 'std']).reset_index()"
   ]
  },
  {
   "cell_type": "code",
   "execution_count": 168,
   "id": "f89b7150-26d8-4251-97a6-1a0ec26c75d8",
   "metadata": {},
   "outputs": [],
   "source": []
  },
  {
   "cell_type": "code",
   "execution_count": 175,
   "id": "d80ced79-4a76-495f-a60f-92b74e424d1c",
   "metadata": {},
   "outputs": [
    {
     "data": {
      "text/plain": [
       "array([[-0.02208481, -0.0238099 ],\n",
       "       [ 0.02258161,  0.02057576]])"
      ]
     },
     "execution_count": 175,
     "metadata": {},
     "output_type": "execute_result"
    }
   ],
   "source": [
    "perm_limits"
   ]
  },
  {
   "cell_type": "code",
   "execution_count": 176,
   "id": "c7e0b2b9-d4ef-44f2-b8ab-e19752e08a0a",
   "metadata": {},
   "outputs": [
    {
     "data": {
      "text/plain": [
       "True"
      ]
     },
     "execution_count": 176,
     "metadata": {},
     "output_type": "execute_result"
    }
   ],
   "source": [
    "hitop_wins_nn = (tmp[0] - tmp[2]) < perm_limits[0][0]\n",
    "baars_wins_nn = (tmp[0] - tmp[2]) > perm_limits[1][0]\n",
    "\n",
    "hitop_wins_bin = (tmp[1] - tmp[3]) < perm_limits[0][1]\n",
    "baars_wins_bin = (tmp[1] - tmp[3]) > perm_limits[1][1]"
   ]
  },
  {
   "cell_type": "code",
   "execution_count": 151,
   "id": "4f601f35-3f3e-4800-8378-1dbd7b5abb08",
   "metadata": {},
   "outputs": [
    {
     "data": {
      "text/html": [
       "<div>\n",
       "<style scoped>\n",
       "    .dataframe tbody tr th:only-of-type {\n",
       "        vertical-align: middle;\n",
       "    }\n",
       "\n",
       "    .dataframe tbody tr th {\n",
       "        vertical-align: top;\n",
       "    }\n",
       "\n",
       "    .dataframe thead tr th {\n",
       "        text-align: left;\n",
       "    }\n",
       "</style>\n",
       "<table border=\"1\" class=\"dataframe\">\n",
       "  <thead>\n",
       "    <tr>\n",
       "      <th></th>\n",
       "      <th>subsamp_nbins</th>\n",
       "      <th colspan=\"2\" halign=\"left\">baars_bin</th>\n",
       "      <th colspan=\"2\" halign=\"left\">hitop_bin</th>\n",
       "    </tr>\n",
       "    <tr>\n",
       "      <th></th>\n",
       "      <th></th>\n",
       "      <th>mean</th>\n",
       "      <th>std</th>\n",
       "      <th>mean</th>\n",
       "      <th>std</th>\n",
       "    </tr>\n",
       "  </thead>\n",
       "  <tbody>\n",
       "    <tr>\n",
       "      <th>0</th>\n",
       "      <td>4</td>\n",
       "      <td>0.053484</td>\n",
       "      <td>0.011841</td>\n",
       "      <td>0.050355</td>\n",
       "      <td>0.012246</td>\n",
       "    </tr>\n",
       "    <tr>\n",
       "      <th>1</th>\n",
       "      <td>8</td>\n",
       "      <td>0.063607</td>\n",
       "      <td>0.015519</td>\n",
       "      <td>0.057456</td>\n",
       "      <td>0.014669</td>\n",
       "    </tr>\n",
       "    <tr>\n",
       "      <th>2</th>\n",
       "      <td>13</td>\n",
       "      <td>0.075233</td>\n",
       "      <td>0.015958</td>\n",
       "      <td>0.066450</td>\n",
       "      <td>0.014754</td>\n",
       "    </tr>\n",
       "    <tr>\n",
       "      <th>3</th>\n",
       "      <td>17</td>\n",
       "      <td>0.078060</td>\n",
       "      <td>0.014794</td>\n",
       "      <td>0.069746</td>\n",
       "      <td>0.015349</td>\n",
       "    </tr>\n",
       "    <tr>\n",
       "      <th>4</th>\n",
       "      <td>22</td>\n",
       "      <td>0.082277</td>\n",
       "      <td>0.015769</td>\n",
       "      <td>0.074199</td>\n",
       "      <td>0.017698</td>\n",
       "    </tr>\n",
       "    <tr>\n",
       "      <th>5</th>\n",
       "      <td>26</td>\n",
       "      <td>0.088152</td>\n",
       "      <td>0.018149</td>\n",
       "      <td>0.078265</td>\n",
       "      <td>0.013937</td>\n",
       "    </tr>\n",
       "    <tr>\n",
       "      <th>6</th>\n",
       "      <td>30</td>\n",
       "      <td>0.092696</td>\n",
       "      <td>0.016558</td>\n",
       "      <td>0.080127</td>\n",
       "      <td>0.015571</td>\n",
       "    </tr>\n",
       "    <tr>\n",
       "      <th>7</th>\n",
       "      <td>35</td>\n",
       "      <td>0.100009</td>\n",
       "      <td>0.016220</td>\n",
       "      <td>0.091126</td>\n",
       "      <td>0.017315</td>\n",
       "    </tr>\n",
       "    <tr>\n",
       "      <th>8</th>\n",
       "      <td>39</td>\n",
       "      <td>0.098770</td>\n",
       "      <td>0.018710</td>\n",
       "      <td>0.093858</td>\n",
       "      <td>0.019388</td>\n",
       "    </tr>\n",
       "    <tr>\n",
       "      <th>9</th>\n",
       "      <td>44</td>\n",
       "      <td>0.106149</td>\n",
       "      <td>0.018635</td>\n",
       "      <td>0.097123</td>\n",
       "      <td>0.016836</td>\n",
       "    </tr>\n",
       "  </tbody>\n",
       "</table>\n",
       "</div>"
      ],
      "text/plain": [
       "  subsamp_nbins baars_bin           hitop_bin          \n",
       "                     mean       std      mean       std\n",
       "0             4  0.053484  0.011841  0.050355  0.012246\n",
       "1             8  0.063607  0.015519  0.057456  0.014669\n",
       "2            13  0.075233  0.015958  0.066450  0.014754\n",
       "3            17  0.078060  0.014794  0.069746  0.015349\n",
       "4            22  0.082277  0.015769  0.074199  0.017698\n",
       "5            26  0.088152  0.018149  0.078265  0.013937\n",
       "6            30  0.092696  0.016558  0.080127  0.015571\n",
       "7            35  0.100009  0.016220  0.091126  0.017315\n",
       "8            39  0.098770  0.018710  0.093858  0.019388\n",
       "9            44  0.106149  0.018635  0.097123  0.016836"
      ]
     },
     "execution_count": 151,
     "metadata": {},
     "output_type": "execute_result"
    }
   ],
   "source": [
    "foo = res.groupby('subsamp_nbins')[['baars_bin', 'hitop_bin']].agg(['mean', 'std']).reset_index()\n",
    "foo"
   ]
  },
  {
   "cell_type": "code",
   "execution_count": 152,
   "id": "2acda19c-64ec-49bb-b1e3-f179b98785d3",
   "metadata": {},
   "outputs": [
    {
     "data": {
      "text/html": [
       "<div>\n",
       "<style scoped>\n",
       "    .dataframe tbody tr th:only-of-type {\n",
       "        vertical-align: middle;\n",
       "    }\n",
       "\n",
       "    .dataframe tbody tr th {\n",
       "        vertical-align: top;\n",
       "    }\n",
       "\n",
       "    .dataframe thead tr th {\n",
       "        text-align: left;\n",
       "    }\n",
       "</style>\n",
       "<table border=\"1\" class=\"dataframe\">\n",
       "  <thead>\n",
       "    <tr>\n",
       "      <th></th>\n",
       "      <th>k</th>\n",
       "      <th colspan=\"2\" halign=\"left\">baars_nn</th>\n",
       "      <th colspan=\"2\" halign=\"left\">hitop_nn</th>\n",
       "    </tr>\n",
       "    <tr>\n",
       "      <th></th>\n",
       "      <th></th>\n",
       "      <th>mean</th>\n",
       "      <th>std</th>\n",
       "      <th>mean</th>\n",
       "      <th>std</th>\n",
       "    </tr>\n",
       "  </thead>\n",
       "  <tbody>\n",
       "    <tr>\n",
       "      <th>0</th>\n",
       "      <td>1</td>\n",
       "      <td>0.061428</td>\n",
       "      <td>0.032093</td>\n",
       "      <td>0.062568</td>\n",
       "      <td>0.034816</td>\n",
       "    </tr>\n",
       "    <tr>\n",
       "      <th>1</th>\n",
       "      <td>2</td>\n",
       "      <td>0.059856</td>\n",
       "      <td>0.027051</td>\n",
       "      <td>0.052385</td>\n",
       "      <td>0.028959</td>\n",
       "    </tr>\n",
       "    <tr>\n",
       "      <th>2</th>\n",
       "      <td>3</td>\n",
       "      <td>0.063281</td>\n",
       "      <td>0.027152</td>\n",
       "      <td>0.055069</td>\n",
       "      <td>0.025714</td>\n",
       "    </tr>\n",
       "    <tr>\n",
       "      <th>3</th>\n",
       "      <td>4</td>\n",
       "      <td>0.062167</td>\n",
       "      <td>0.021370</td>\n",
       "      <td>0.052193</td>\n",
       "      <td>0.021914</td>\n",
       "    </tr>\n",
       "    <tr>\n",
       "      <th>4</th>\n",
       "      <td>5</td>\n",
       "      <td>0.064447</td>\n",
       "      <td>0.021517</td>\n",
       "      <td>0.052910</td>\n",
       "      <td>0.022426</td>\n",
       "    </tr>\n",
       "    <tr>\n",
       "      <th>5</th>\n",
       "      <td>6</td>\n",
       "      <td>0.065412</td>\n",
       "      <td>0.024183</td>\n",
       "      <td>0.049475</td>\n",
       "      <td>0.018036</td>\n",
       "    </tr>\n",
       "    <tr>\n",
       "      <th>6</th>\n",
       "      <td>7</td>\n",
       "      <td>0.065478</td>\n",
       "      <td>0.021339</td>\n",
       "      <td>0.049243</td>\n",
       "      <td>0.017274</td>\n",
       "    </tr>\n",
       "    <tr>\n",
       "      <th>7</th>\n",
       "      <td>8</td>\n",
       "      <td>0.068029</td>\n",
       "      <td>0.020084</td>\n",
       "      <td>0.054143</td>\n",
       "      <td>0.019654</td>\n",
       "    </tr>\n",
       "    <tr>\n",
       "      <th>8</th>\n",
       "      <td>9</td>\n",
       "      <td>0.061704</td>\n",
       "      <td>0.022126</td>\n",
       "      <td>0.051797</td>\n",
       "      <td>0.020882</td>\n",
       "    </tr>\n",
       "    <tr>\n",
       "      <th>9</th>\n",
       "      <td>10</td>\n",
       "      <td>0.066142</td>\n",
       "      <td>0.020798</td>\n",
       "      <td>0.050457</td>\n",
       "      <td>0.017536</td>\n",
       "    </tr>\n",
       "  </tbody>\n",
       "</table>\n",
       "</div>"
      ],
      "text/plain": [
       "    k  baars_nn            hitop_nn          \n",
       "           mean       std      mean       std\n",
       "0   1  0.061428  0.032093  0.062568  0.034816\n",
       "1   2  0.059856  0.027051  0.052385  0.028959\n",
       "2   3  0.063281  0.027152  0.055069  0.025714\n",
       "3   4  0.062167  0.021370  0.052193  0.021914\n",
       "4   5  0.064447  0.021517  0.052910  0.022426\n",
       "5   6  0.065412  0.024183  0.049475  0.018036\n",
       "6   7  0.065478  0.021339  0.049243  0.017274\n",
       "7   8  0.068029  0.020084  0.054143  0.019654\n",
       "8   9  0.061704  0.022126  0.051797  0.020882\n",
       "9  10  0.066142  0.020798  0.050457  0.017536"
      ]
     },
     "execution_count": 152,
     "metadata": {},
     "output_type": "execute_result"
    }
   ],
   "source": [
    "foo = res.groupby('k')[['baars_nn', 'hitop_nn']].agg(['mean', 'std']).reset_index()\n",
    "foo"
   ]
  },
  {
   "cell_type": "code",
   "execution_count": 153,
   "id": "789d09bf-af2d-43a3-bdbc-3c518c1ad159",
   "metadata": {},
   "outputs": [],
   "source": [
    "res['nn_dif'] = res.baars_nn - res.hitop_nn\n",
    "res['bin_dif'] = res.baars_bin - res.hitop_bin"
   ]
  },
  {
   "cell_type": "code",
   "execution_count": 158,
   "id": "8c86d574-eeb8-4ffd-95f3-00794db58a00",
   "metadata": {},
   "outputs": [
    {
     "data": {
      "text/plain": [
       "(0.012861150000000009, 0.008780789999999997)"
      ]
     },
     "execution_count": 158,
     "metadata": {},
     "output_type": "execute_result"
    }
   ],
   "source": [
    "0.06674662 - 0.05388547, 0.06167399 -  0.0528932"
   ]
  },
  {
   "cell_type": "code",
   "execution_count": 157,
   "id": "e5028c72-e874-4815-ab56-a2c379bb1e06",
   "metadata": {},
   "outputs": [
    {
     "data": {
      "text/plain": [
       "22.360679774997898"
      ]
     },
     "execution_count": 157,
     "metadata": {},
     "output_type": "execute_result"
    }
   ],
   "source": [
    "np.sqrt(500)"
   ]
  },
  {
   "cell_type": "code",
   "execution_count": 155,
   "id": "c9abf7b7-71c4-4113-b555-a4291c24ec2c",
   "metadata": {},
   "outputs": [
    {
     "data": {
      "text/html": [
       "<div>\n",
       "<style scoped>\n",
       "    .dataframe tbody tr th:only-of-type {\n",
       "        vertical-align: middle;\n",
       "    }\n",
       "\n",
       "    .dataframe tbody tr th {\n",
       "        vertical-align: top;\n",
       "    }\n",
       "\n",
       "    .dataframe thead tr th {\n",
       "        text-align: left;\n",
       "    }\n",
       "\n",
       "    .dataframe thead tr:last-of-type th {\n",
       "        text-align: right;\n",
       "    }\n",
       "</style>\n",
       "<table border=\"1\" class=\"dataframe\">\n",
       "  <thead>\n",
       "    <tr>\n",
       "      <th></th>\n",
       "      <th></th>\n",
       "      <th colspan=\"2\" halign=\"left\">nn_dif</th>\n",
       "      <th colspan=\"2\" halign=\"left\">bin_dif</th>\n",
       "    </tr>\n",
       "    <tr>\n",
       "      <th></th>\n",
       "      <th></th>\n",
       "      <th>mean</th>\n",
       "      <th>std</th>\n",
       "      <th>mean</th>\n",
       "      <th>std</th>\n",
       "    </tr>\n",
       "    <tr>\n",
       "      <th>subsamp_nbins</th>\n",
       "      <th>k</th>\n",
       "      <th></th>\n",
       "      <th></th>\n",
       "      <th></th>\n",
       "      <th></th>\n",
       "    </tr>\n",
       "  </thead>\n",
       "  <tbody>\n",
       "    <tr>\n",
       "      <th>4</th>\n",
       "      <th>1</th>\n",
       "      <td>-0.001140</td>\n",
       "      <td>0.044785</td>\n",
       "      <td>0.003129</td>\n",
       "      <td>0.016512</td>\n",
       "    </tr>\n",
       "    <tr>\n",
       "      <th>8</th>\n",
       "      <th>2</th>\n",
       "      <td>0.007472</td>\n",
       "      <td>0.036091</td>\n",
       "      <td>0.006151</td>\n",
       "      <td>0.022447</td>\n",
       "    </tr>\n",
       "    <tr>\n",
       "      <th>13</th>\n",
       "      <th>3</th>\n",
       "      <td>0.008212</td>\n",
       "      <td>0.037462</td>\n",
       "      <td>0.008783</td>\n",
       "      <td>0.020050</td>\n",
       "    </tr>\n",
       "    <tr>\n",
       "      <th>17</th>\n",
       "      <th>4</th>\n",
       "      <td>0.009974</td>\n",
       "      <td>0.032319</td>\n",
       "      <td>0.008314</td>\n",
       "      <td>0.021961</td>\n",
       "    </tr>\n",
       "    <tr>\n",
       "      <th>22</th>\n",
       "      <th>5</th>\n",
       "      <td>0.011537</td>\n",
       "      <td>0.028888</td>\n",
       "      <td>0.008078</td>\n",
       "      <td>0.021249</td>\n",
       "    </tr>\n",
       "    <tr>\n",
       "      <th>26</th>\n",
       "      <th>6</th>\n",
       "      <td>0.015937</td>\n",
       "      <td>0.031098</td>\n",
       "      <td>0.009887</td>\n",
       "      <td>0.023035</td>\n",
       "    </tr>\n",
       "    <tr>\n",
       "      <th>30</th>\n",
       "      <th>7</th>\n",
       "      <td>0.016235</td>\n",
       "      <td>0.027071</td>\n",
       "      <td>0.012569</td>\n",
       "      <td>0.022393</td>\n",
       "    </tr>\n",
       "    <tr>\n",
       "      <th>35</th>\n",
       "      <th>8</th>\n",
       "      <td>0.013886</td>\n",
       "      <td>0.030606</td>\n",
       "      <td>0.008883</td>\n",
       "      <td>0.024810</td>\n",
       "    </tr>\n",
       "    <tr>\n",
       "      <th>39</th>\n",
       "      <th>9</th>\n",
       "      <td>0.009907</td>\n",
       "      <td>0.030752</td>\n",
       "      <td>0.004912</td>\n",
       "      <td>0.025700</td>\n",
       "    </tr>\n",
       "    <tr>\n",
       "      <th>44</th>\n",
       "      <th>10</th>\n",
       "      <td>0.015685</td>\n",
       "      <td>0.027917</td>\n",
       "      <td>0.009027</td>\n",
       "      <td>0.026347</td>\n",
       "    </tr>\n",
       "  </tbody>\n",
       "</table>\n",
       "</div>"
      ],
      "text/plain": [
       "                    nn_dif             bin_dif          \n",
       "                      mean       std      mean       std\n",
       "subsamp_nbins k                                         \n",
       "4             1  -0.001140  0.044785  0.003129  0.016512\n",
       "8             2   0.007472  0.036091  0.006151  0.022447\n",
       "13            3   0.008212  0.037462  0.008783  0.020050\n",
       "17            4   0.009974  0.032319  0.008314  0.021961\n",
       "22            5   0.011537  0.028888  0.008078  0.021249\n",
       "26            6   0.015937  0.031098  0.009887  0.023035\n",
       "30            7   0.016235  0.027071  0.012569  0.022393\n",
       "35            8   0.013886  0.030606  0.008883  0.024810\n",
       "39            9   0.009907  0.030752  0.004912  0.025700\n",
       "44            10  0.015685  0.027917  0.009027  0.026347"
      ]
     },
     "execution_count": 155,
     "metadata": {},
     "output_type": "execute_result"
    }
   ],
   "source": [
    "res.groupby(['subsamp_nbins', 'k'])[['nn_dif', 'bin_dif']].agg(['mean', 'std'])"
   ]
  },
  {
   "cell_type": "code",
   "execution_count": 144,
   "id": "f9ffc392-d975-4413-8938-186d1002fe85",
   "metadata": {},
   "outputs": [
    {
     "data": {
      "text/html": [
       "<div>\n",
       "<style scoped>\n",
       "    .dataframe tbody tr th:only-of-type {\n",
       "        vertical-align: middle;\n",
       "    }\n",
       "\n",
       "    .dataframe tbody tr th {\n",
       "        vertical-align: top;\n",
       "    }\n",
       "\n",
       "    .dataframe thead th {\n",
       "        text-align: right;\n",
       "    }\n",
       "</style>\n",
       "<table border=\"1\" class=\"dataframe\">\n",
       "  <thead>\n",
       "    <tr style=\"text-align: right;\">\n",
       "      <th></th>\n",
       "      <th></th>\n",
       "      <th>baars_nn</th>\n",
       "      <th>baars_bin</th>\n",
       "      <th>hitop_nn</th>\n",
       "      <th>hitop_bin</th>\n",
       "    </tr>\n",
       "    <tr>\n",
       "      <th>subsamp_nbins</th>\n",
       "      <th>k</th>\n",
       "      <th></th>\n",
       "      <th></th>\n",
       "      <th></th>\n",
       "      <th></th>\n",
       "    </tr>\n",
       "  </thead>\n",
       "  <tbody>\n",
       "    <tr>\n",
       "      <th>4</th>\n",
       "      <th>1</th>\n",
       "      <td>0.032093</td>\n",
       "      <td>0.011841</td>\n",
       "      <td>0.034816</td>\n",
       "      <td>0.012246</td>\n",
       "    </tr>\n",
       "    <tr>\n",
       "      <th>8</th>\n",
       "      <th>2</th>\n",
       "      <td>0.027051</td>\n",
       "      <td>0.015519</td>\n",
       "      <td>0.028959</td>\n",
       "      <td>0.014669</td>\n",
       "    </tr>\n",
       "    <tr>\n",
       "      <th>13</th>\n",
       "      <th>3</th>\n",
       "      <td>0.027152</td>\n",
       "      <td>0.015958</td>\n",
       "      <td>0.025714</td>\n",
       "      <td>0.014754</td>\n",
       "    </tr>\n",
       "    <tr>\n",
       "      <th>17</th>\n",
       "      <th>4</th>\n",
       "      <td>0.021370</td>\n",
       "      <td>0.014794</td>\n",
       "      <td>0.021914</td>\n",
       "      <td>0.015349</td>\n",
       "    </tr>\n",
       "    <tr>\n",
       "      <th>22</th>\n",
       "      <th>5</th>\n",
       "      <td>0.021517</td>\n",
       "      <td>0.015769</td>\n",
       "      <td>0.022426</td>\n",
       "      <td>0.017698</td>\n",
       "    </tr>\n",
       "    <tr>\n",
       "      <th>26</th>\n",
       "      <th>6</th>\n",
       "      <td>0.024183</td>\n",
       "      <td>0.018149</td>\n",
       "      <td>0.018036</td>\n",
       "      <td>0.013937</td>\n",
       "    </tr>\n",
       "    <tr>\n",
       "      <th>30</th>\n",
       "      <th>7</th>\n",
       "      <td>0.021339</td>\n",
       "      <td>0.016558</td>\n",
       "      <td>0.017274</td>\n",
       "      <td>0.015571</td>\n",
       "    </tr>\n",
       "    <tr>\n",
       "      <th>35</th>\n",
       "      <th>8</th>\n",
       "      <td>0.020084</td>\n",
       "      <td>0.016220</td>\n",
       "      <td>0.019654</td>\n",
       "      <td>0.017315</td>\n",
       "    </tr>\n",
       "    <tr>\n",
       "      <th>39</th>\n",
       "      <th>9</th>\n",
       "      <td>0.022126</td>\n",
       "      <td>0.018710</td>\n",
       "      <td>0.020882</td>\n",
       "      <td>0.019388</td>\n",
       "    </tr>\n",
       "    <tr>\n",
       "      <th>44</th>\n",
       "      <th>10</th>\n",
       "      <td>0.020798</td>\n",
       "      <td>0.018635</td>\n",
       "      <td>0.017536</td>\n",
       "      <td>0.016836</td>\n",
       "    </tr>\n",
       "  </tbody>\n",
       "</table>\n",
       "</div>"
      ],
      "text/plain": [
       "                  baars_nn  baars_bin  hitop_nn  hitop_bin\n",
       "subsamp_nbins k                                           \n",
       "4             1   0.032093   0.011841  0.034816   0.012246\n",
       "8             2   0.027051   0.015519  0.028959   0.014669\n",
       "13            3   0.027152   0.015958  0.025714   0.014754\n",
       "17            4   0.021370   0.014794  0.021914   0.015349\n",
       "22            5   0.021517   0.015769  0.022426   0.017698\n",
       "26            6   0.024183   0.018149  0.018036   0.013937\n",
       "30            7   0.021339   0.016558  0.017274   0.015571\n",
       "35            8   0.020084   0.016220  0.019654   0.017315\n",
       "39            9   0.022126   0.018710  0.020882   0.019388\n",
       "44            10  0.020798   0.018635  0.017536   0.016836"
      ]
     },
     "execution_count": 144,
     "metadata": {},
     "output_type": "execute_result"
    }
   ],
   "source": [
    "res.groupby(['subsamp_nbins', 'k'])[['baars_nn', 'baars_bin', 'hitop_nn', 'hitop_bin']].std()"
   ]
  },
  {
   "cell_type": "code",
   "execution_count": 127,
   "id": "71275bd1-c984-4711-b516-2a098d624bb1",
   "metadata": {},
   "outputs": [
    {
     "data": {
      "text/plain": [
       "array([0.06038803, 0.07631897, 0.05080605, 0.06764226])"
      ]
     },
     "execution_count": 127,
     "metadata": {},
     "output_type": "execute_result"
    }
   ],
   "source": [
    "res.mean(0)"
   ]
  },
  {
   "cell_type": "code",
   "execution_count": 125,
   "id": "6d827915-9110-443e-a252-0fa4221c934b",
   "metadata": {},
   "outputs": [
    {
     "data": {
      "text/plain": [
       "array([0.01764324, 0.01076886, 0.01711236, 0.00929768])"
      ]
     },
     "execution_count": 125,
     "metadata": {},
     "output_type": "execute_result"
    }
   ],
   "source": [
    "res.std(0)"
   ]
  },
  {
   "cell_type": "code",
   "execution_count": 115,
   "id": "18a94aad-9a28-465d-8c6b-e6c79d6b25b1",
   "metadata": {},
   "outputs": [
    {
     "data": {
      "text/plain": [
       "array([0.04335648, 0.07345555, 0.08546115, 0.17132052])"
      ]
     },
     "execution_count": 115,
     "metadata": {},
     "output_type": "execute_result"
    }
   ],
   "source": [
    "mutual_info_classif(subsamp.loc[:, ['baars_sum', 'baars_bin', 'hitop_sum' ,'hitop_bin']],\n",
    "                    subsamp.moodanxiety_bothered,\n",
    "                    discrete_features=[False, True, False, True])"
   ]
  },
  {
   "cell_type": "code",
   "execution_count": 18,
   "id": "9b323c40-0426-4e43-9530-4fa429f185b9",
   "metadata": {},
   "outputs": [
    {
     "ename": "AttributeError",
     "evalue": "'DataFrame' object has no attribute 'moodanxiety_bothered'",
     "output_type": "error",
     "traceback": [
      "\u001b[0;31m---------------------------------------------------------------------------\u001b[0m",
      "\u001b[0;31mAttributeError\u001b[0m                            Traceback (most recent call last)",
      "\u001b[0;32m/var/folders/wz/6yqczlkd3fb3rjn025dydkym0000gs/T/ipykernel_69102/3989708934.py\u001b[0m in \u001b[0;36m?\u001b[0;34m()\u001b[0m\n\u001b[0;32m----> 1\u001b[0;31m \u001b[0mprint\u001b[0m\u001b[0;34m(\u001b[0m\u001b[0mmutual_info_classif\u001b[0m\u001b[0;34m(\u001b[0m\u001b[0mdat\u001b[0m\u001b[0;34m.\u001b[0m\u001b[0mloc\u001b[0m\u001b[0;34m[\u001b[0m\u001b[0;34m:\u001b[0m\u001b[0;34m,\u001b[0m \u001b[0;34m[\u001b[0m\u001b[0;34m'baars_sum'\u001b[0m\u001b[0;34m,\u001b[0m \u001b[0;34m'hitop_sum'\u001b[0m\u001b[0;34m]\u001b[0m\u001b[0;34m]\u001b[0m\u001b[0;34m,\u001b[0m \u001b[0mdat\u001b[0m\u001b[0;34m.\u001b[0m\u001b[0mmoodanxiety_bothered\u001b[0m\u001b[0;34m,\u001b[0m \u001b[0mdiscrete_features\u001b[0m\u001b[0;34m=\u001b[0m\u001b[0;32mFalse\u001b[0m\u001b[0;34m)\u001b[0m\u001b[0;34m)\u001b[0m\u001b[0;34m\u001b[0m\u001b[0;34m\u001b[0m\u001b[0m\n\u001b[0m\u001b[1;32m      2\u001b[0m \u001b[0mfig\u001b[0m\u001b[0;34m,\u001b[0m \u001b[0maxes\u001b[0m \u001b[0;34m=\u001b[0m \u001b[0mplt\u001b[0m\u001b[0;34m.\u001b[0m\u001b[0msubplots\u001b[0m\u001b[0;34m(\u001b[0m\u001b[0;36m2\u001b[0m\u001b[0;34m)\u001b[0m\u001b[0;34m\u001b[0m\u001b[0;34m\u001b[0m\u001b[0m\n\u001b[1;32m      3\u001b[0m \u001b[0msns\u001b[0m\u001b[0;34m.\u001b[0m\u001b[0mhistplot\u001b[0m\u001b[0;34m(\u001b[0m\u001b[0mdata\u001b[0m\u001b[0;34m=\u001b[0m\u001b[0mdat\u001b[0m\u001b[0;34m,\u001b[0m \u001b[0mx\u001b[0m\u001b[0;34m=\u001b[0m\u001b[0;34m'baars_sum'\u001b[0m\u001b[0;34m,\u001b[0m \u001b[0mhue\u001b[0m\u001b[0;34m=\u001b[0m\u001b[0;34m'moodanxiety_bothered'\u001b[0m\u001b[0;34m,\u001b[0m \u001b[0max\u001b[0m\u001b[0;34m=\u001b[0m\u001b[0maxes\u001b[0m\u001b[0;34m[\u001b[0m\u001b[0;36m0\u001b[0m\u001b[0;34m]\u001b[0m\u001b[0;34m)\u001b[0m\u001b[0;34m\u001b[0m\u001b[0;34m\u001b[0m\u001b[0m\n\u001b[1;32m      4\u001b[0m \u001b[0msns\u001b[0m\u001b[0;34m.\u001b[0m\u001b[0mhistplot\u001b[0m\u001b[0;34m(\u001b[0m\u001b[0mdata\u001b[0m\u001b[0;34m=\u001b[0m\u001b[0mdat\u001b[0m\u001b[0;34m,\u001b[0m \u001b[0mx\u001b[0m\u001b[0;34m=\u001b[0m\u001b[0;34m'hitop_sum'\u001b[0m\u001b[0;34m,\u001b[0m \u001b[0mhue\u001b[0m\u001b[0;34m=\u001b[0m\u001b[0;34m'moodanxiety_bothered'\u001b[0m\u001b[0;34m,\u001b[0m \u001b[0max\u001b[0m\u001b[0;34m=\u001b[0m\u001b[0maxes\u001b[0m\u001b[0;34m[\u001b[0m\u001b[0;36m1\u001b[0m\u001b[0;34m]\u001b[0m\u001b[0;34m)\u001b[0m\u001b[0;34m\u001b[0m\u001b[0;34m\u001b[0m\u001b[0m\n",
      "\u001b[0;32m~/code/cogmood/env/lib/python3.9/site-packages/pandas/core/generic.py\u001b[0m in \u001b[0;36m?\u001b[0;34m(self, name)\u001b[0m\n\u001b[1;32m   5898\u001b[0m             \u001b[0;32mand\u001b[0m \u001b[0mname\u001b[0m \u001b[0;32mnot\u001b[0m \u001b[0;32min\u001b[0m \u001b[0mself\u001b[0m\u001b[0;34m.\u001b[0m\u001b[0m_accessors\u001b[0m\u001b[0;34m\u001b[0m\u001b[0;34m\u001b[0m\u001b[0m\n\u001b[1;32m   5899\u001b[0m             \u001b[0;32mand\u001b[0m \u001b[0mself\u001b[0m\u001b[0;34m.\u001b[0m\u001b[0m_info_axis\u001b[0m\u001b[0;34m.\u001b[0m\u001b[0m_can_hold_identifiers_and_holds_name\u001b[0m\u001b[0;34m(\u001b[0m\u001b[0mname\u001b[0m\u001b[0;34m)\u001b[0m\u001b[0;34m\u001b[0m\u001b[0;34m\u001b[0m\u001b[0m\n\u001b[1;32m   5900\u001b[0m         ):\n\u001b[1;32m   5901\u001b[0m             \u001b[0;32mreturn\u001b[0m \u001b[0mself\u001b[0m\u001b[0;34m[\u001b[0m\u001b[0mname\u001b[0m\u001b[0;34m]\u001b[0m\u001b[0;34m\u001b[0m\u001b[0;34m\u001b[0m\u001b[0m\n\u001b[0;32m-> 5902\u001b[0;31m         \u001b[0;32mreturn\u001b[0m \u001b[0mobject\u001b[0m\u001b[0;34m.\u001b[0m\u001b[0m__getattribute__\u001b[0m\u001b[0;34m(\u001b[0m\u001b[0mself\u001b[0m\u001b[0;34m,\u001b[0m \u001b[0mname\u001b[0m\u001b[0;34m)\u001b[0m\u001b[0;34m\u001b[0m\u001b[0;34m\u001b[0m\u001b[0m\n\u001b[0m",
      "\u001b[0;31mAttributeError\u001b[0m: 'DataFrame' object has no attribute 'moodanxiety_bothered'"
     ]
    }
   ],
   "source": [
    "print(mutual_info_classif(dat.loc[:, ['baars_sum', 'hitop_sum']], dat.moodanxiety_bothered, discrete_features=False))\n",
    "fig, axes = plt.subplots(2)\n",
    "sns.histplot(data=dat, x='baars_sum', hue='moodanxiety_bothered', ax=axes[0])\n",
    "sns.histplot(data=dat, x='hitop_sum', hue='moodanxiety_bothered', ax=axes[1])\n",
    "fig.tight_layout()"
   ]
  },
  {
   "cell_type": "code",
   "execution_count": 284,
   "id": "af9f2073-5f8b-40c2-8a8c-e1a3e7ee3848",
   "metadata": {},
   "outputs": [
    {
     "name": "stdout",
     "output_type": "stream",
     "text": [
      "[0.07686866 0.49018621]\n"
     ]
    },
    {
     "data": {
      "image/png": "[encoded data removed]",
      "text/plain": [
       "<Figure size 640x480 with 2 Axes>"
      ]
     },
     "metadata": {},
     "output_type": "display_data"
    }
   ],
   "source": [
    "\n",
    "print(mutual_info_classif(dat.query(\"passed_grid\").loc[:, ['baars_sum', 'hitop_sum']], dat.query(\"passed_grid\").mood_bothered, discrete_features=False))\n",
    "\n",
    "fig, axes = plt.subplots(2)\n",
    "sns.histplot(data=dat.query(\"passed_grid\"), x='baars_sum', hue='mood_bothered', ax=axes[0])\n",
    "sns.histplot(data=dat.query(\"passed_grid\"), x='hitop_sum', hue='mood_bothered', ax=axes[1])\n",
    "fig.tight_layout()"
   ]
  },
  {
   "cell_type": "code",
   "execution_count": 233,
   "id": "a2893df0-b5d9-4b96-96ac-c8d8bf28e7dc",
   "metadata": {},
   "outputs": [
    {
     "name": "stdout",
     "output_type": "stream",
     "text": [
      "[0.08508065 0.52837025]\n"
     ]
    },
    {
     "data": {
      "image/png": "[encoded data removed]",
      "text/plain": [
       "<Figure size 640x480 with 2 Axes>"
      ]
     },
     "metadata": {},
     "output_type": "display_data"
    }
   ],
   "source": [
    "\n",
    "print(mutual_info_classif(dat.loc[:, ['baars_sum', 'hitop_sum']], dat.mood_bothered, discrete_features=False))\n",
    "\n",
    "fig, axes = plt.subplots(2)\n",
    "sns.histplot(data=dat, x='baars_sum', hue='mood_bothered', ax=axes[0])\n",
    "sns.histplot(data=dat, x='hitop_sum', hue='mood_bothered', ax=axes[1])\n",
    "fig.tight_layout()"
   ]
  },
  {
   "cell_type": "code",
   "execution_count": 219,
   "id": "60c09f4e-7479-40c1-b7ad-78f7cac9d4e1",
   "metadata": {},
   "outputs": [
    {
     "data": {
      "text/plain": [
       "array([0.2537547 , 0.08910314])"
      ]
     },
     "execution_count": 219,
     "metadata": {},
     "output_type": "execute_result"
    }
   ],
   "source": [
    "mutual_info_classif(dat.loc[:, ['baars_sum', 'hitop_sum']], dat.anxiety_bothered, discrete_features=False)"
   ]
  },
  {
   "cell_type": "code",
   "execution_count": 232,
   "id": "c56b2a8a-4bc7-422b-aef2-d23c05ca0dab",
   "metadata": {},
   "outputs": [
    {
     "data": {
      "image/png": "[encoded data removed]",
      "text/plain": [
       "<Figure size 640x480 with 2 Axes>"
      ]
     },
     "metadata": {},
     "output_type": "display_data"
    }
   ],
   "source": [
    "fig, axes = plt.subplots(2)\n",
    "sns.histplot(data=dat, x='baars_sum', hue='anxiety_bothered', ax=axes[0])\n",
    "sns.histplot(data=dat, x='hitop_sum', hue='anxiety_bothered', ax=axes[1])\n",
    "fig.tight_layout()"
   ]
  },
  {
   "cell_type": "code",
   "execution_count": 220,
   "id": "adc00445-9c6e-4f1c-8554-8853d6d256b0",
   "metadata": {},
   "outputs": [
    {
     "data": {
      "text/plain": [
       "array([0.07148552, 0.01092682])"
      ]
     },
     "execution_count": 220,
     "metadata": {},
     "output_type": "execute_result"
    }
   ],
   "source": [
    "mutual_info_classif(dat.loc[:, ['baars_sum', 'hitop_sum']], dat.attention_bothered, discrete_features=False)"
   ]
  },
  {
   "cell_type": "code",
   "execution_count": 231,
   "id": "40a3d85c-8c0e-4732-bc15-31a3545ee539",
   "metadata": {},
   "outputs": [
    {
     "data": {
      "image/png": "[encoded data removed]",
      "text/plain": [
       "<Figure size 640x480 with 2 Axes>"
      ]
     },
     "metadata": {},
     "output_type": "display_data"
    }
   ],
   "source": [
    "fig, axes = plt.subplots(2)\n",
    "sns.histplot(data=dat, x='baars_sum', hue='attention_bothered', ax=axes[0])\n",
    "sns.histplot(data=dat, x='hitop_sum', hue='attention_bothered', ax=axes[1])\n",
    "fig.tight_layout()"
   ]
  },
  {
   "cell_type": "code",
   "execution_count": 226,
   "id": "867f31d8-f681-41bf-9c15-66b2b203703a",
   "metadata": {},
   "outputs": [
    {
     "data": {
      "text/plain": [
       "<Axes: xlabel='hitop_sum', ylabel='Count'>"
      ]
     },
     "execution_count": 226,
     "metadata": {},
     "output_type": "execute_result"
    },
    {
     "data": {
      "image/png": "[encoded data removed]",
      "text/plain": [
       "<Figure size 640x480 with 1 Axes>"
      ]
     },
     "metadata": {},
     "output_type": "display_data"
    }
   ],
   "source": [
    "sns.histplot(data=dat, x='hitop_sum', hue='attention_bothered')"
   ]
  },
  {
   "cell_type": "code",
   "execution_count": 204,
   "id": "b2cb2fc4-dec4-4833-ac05-0835a08fc836",
   "metadata": {},
   "outputs": [
    {
     "data": {
      "text/plain": [
       "array([0.52158472, 0.43966988, 0.49503598])"
      ]
     },
     "execution_count": 204,
     "metadata": {},
     "output_type": "execute_result"
    }
   ],
   "source": [
    "mutual_info_classif(dat.loc[:, ['passed_checks', 'passed_grid', 'passed_list']], dat.baars_sum, discrete_features=True)"
   ]
  },
  {
   "cell_type": "code",
   "execution_count": 208,
   "id": "2971e1d8-822b-4aca-b766-e2c7b5c7fe44",
   "metadata": {},
   "outputs": [
    {
     "data": {
      "text/plain": [
       "(25, 411)"
      ]
     },
     "execution_count": 208,
     "metadata": {},
     "output_type": "execute_result"
    }
   ],
   "source": [
    "dat.shape"
   ]
  },
  {
   "cell_type": "code",
   "execution_count": null,
   "id": "2490f63e-8ff8-4763-9698-2097830b8233",
   "metadata": {},
   "outputs": [],
   "source": [
    "stats.fisher_exact("
   ]
  },
  {
   "cell_type": "code",
   "execution_count": 184,
   "id": "91cffb02-f661-4961-b7bd-bc75328e4d2a",
   "metadata": {},
   "outputs": [
    {
     "data": {
      "text/plain": [
       "(SignificanceResult(statistic=0.8405549823394931, pvalue=1.451336536537333e-07),\n",
       " SignificanceResult(statistic=0.9086902343725689, pvalue=1.111493965159416e-06))"
      ]
     },
     "execution_count": 184,
     "metadata": {},
     "output_type": "execute_result"
    }
   ],
   "source": [
    "stats.spearmanr(dat.baars_sum, dat.hitop_sum), stats.spearmanr(ok_dat.baars_sum, ok_dat.hitop_sum)"
   ]
  },
  {
   "cell_type": "code",
   "execution_count": 170,
   "id": "1e49e362-4289-4af6-8348-18236a31b21a",
   "metadata": {},
   "outputs": [
    {
     "data": {
      "text/plain": [
       "(SignificanceResult(statistic=0.8952161108383018, pvalue=1.5370225535516053e-09),\n",
       " SignificanceResult(statistic=0.945688712136862, pvalue=3.2356834827465695e-08))"
      ]
     },
     "execution_count": 170,
     "metadata": {},
     "output_type": "execute_result"
    }
   ],
   "source": [
    "stats.spearmanr(dat.phq_sum, dat.anhedonic_depression), stats.spearmanr(ok_dat.phq_sum, ok_dat.anhedonic_depression)"
   ]
  },
  {
   "cell_type": "code",
   "execution_count": 171,
   "id": "6717918d-d37d-4b9b-b9a1-11209f1d9aa5",
   "metadata": {},
   "outputs": [
    {
     "data": {
      "text/plain": [
       "(SignificanceResult(statistic=0.8513986656504904, pvalue=6.828982306422666e-08),\n",
       " SignificanceResult(statistic=0.8959881129271917, pvalue=2.671757887997061e-06))"
      ]
     },
     "execution_count": 171,
     "metadata": {},
     "output_type": "execute_result"
    }
   ],
   "source": [
    "stats.spearmanr(dat.gad_sum, dat.anxious_worry), stats.spearmanr(ok_dat.gad_sum, ok_dat.anxious_worry)"
   ]
  },
  {
   "cell_type": "code",
   "execution_count": 172,
   "id": "afb7e2cb-5b5d-46b3-b853-c024592a5f12",
   "metadata": {},
   "outputs": [
    {
     "data": {
      "text/plain": [
       "(SignificanceResult(statistic=-0.8050305194588487, pvalue=1.2182284688999098e-06),\n",
       " SignificanceResult(statistic=-0.8560981624510337, pvalue=2.3218411902249017e-05))"
      ]
     },
     "execution_count": 172,
     "metadata": {},
     "output_type": "execute_result"
    }
   ],
   "source": [
    "stats.spearmanr(dat.phq_sum, dat.well_being), stats.spearmanr(ok_dat.phq_sum, ok_dat.well_being)"
   ]
  },
  {
   "cell_type": "code",
   "execution_count": 138,
   "id": "453d51c3-e381-4926-ae08-c7e393825800",
   "metadata": {},
   "outputs": [],
   "source": []
  },
  {
   "cell_type": "code",
   "execution_count": 141,
   "id": "2b4d6f62-c2ec-4ee6-a5f0-699d267551c5",
   "metadata": {},
   "outputs": [],
   "source": [
    "baars_score_cols = ['inattention_sum',\n",
    " 'hyperactivity_sum',\n",
    " 'impulsivity_sum',\n",
    " 'sct_sum','baars_sum']"
   ]
  },
  {
   "cell_type": "code",
   "execution_count": 180,
   "id": "1901a618-8ad3-4aea-ad05-c2c2e798873a",
   "metadata": {},
   "outputs": [],
   "source": [
    "ok_dat = dat.query(\"passed_checks\")"
   ]
  },
  {
   "cell_type": "code",
   "execution_count": 146,
   "id": "f517d4f4-ee19-4f8f-b1f8-1fadf5764a27",
   "metadata": {},
   "outputs": [
    {
     "data": {
      "text/html": [
       "<div>\n",
       "<style scoped>\n",
       "    .dataframe tbody tr th:only-of-type {\n",
       "        vertical-align: middle;\n",
       "    }\n",
       "\n",
       "    .dataframe tbody tr th {\n",
       "        vertical-align: top;\n",
       "    }\n",
       "\n",
       "    .dataframe thead tr th {\n",
       "        text-align: left;\n",
       "    }\n",
       "\n",
       "    .dataframe thead tr:last-of-type th {\n",
       "        text-align: right;\n",
       "    }\n",
       "</style>\n",
       "<table border=\"1\" class=\"dataframe\">\n",
       "  <thead>\n",
       "    <tr>\n",
       "      <th></th>\n",
       "      <th colspan=\"8\" halign=\"left\">inattention_sum</th>\n",
       "      <th colspan=\"8\" halign=\"left\">hyperactivity_sum</th>\n",
       "      <th colspan=\"8\" halign=\"left\">impulsivity_sum</th>\n",
       "      <th colspan=\"8\" halign=\"left\">sct_sum</th>\n",
       "      <th colspan=\"8\" halign=\"left\">baars_sum</th>\n",
       "    </tr>\n",
       "    <tr>\n",
       "      <th></th>\n",
       "      <th>count</th>\n",
       "      <th>mean</th>\n",
       "      <th>std</th>\n",
       "      <th>min</th>\n",
       "      <th>25%</th>\n",
       "      <th>50%</th>\n",
       "      <th>75%</th>\n",
       "      <th>max</th>\n",
       "      <th>count</th>\n",
       "      <th>mean</th>\n",
       "      <th>std</th>\n",
       "      <th>min</th>\n",
       "      <th>25%</th>\n",
       "      <th>50%</th>\n",
       "      <th>75%</th>\n",
       "      <th>max</th>\n",
       "      <th>count</th>\n",
       "      <th>mean</th>\n",
       "      <th>std</th>\n",
       "      <th>min</th>\n",
       "      <th>25%</th>\n",
       "      <th>50%</th>\n",
       "      <th>75%</th>\n",
       "      <th>max</th>\n",
       "      <th>count</th>\n",
       "      <th>mean</th>\n",
       "      <th>std</th>\n",
       "      <th>min</th>\n",
       "      <th>25%</th>\n",
       "      <th>50%</th>\n",
       "      <th>75%</th>\n",
       "      <th>max</th>\n",
       "      <th>count</th>\n",
       "      <th>mean</th>\n",
       "      <th>std</th>\n",
       "      <th>min</th>\n",
       "      <th>25%</th>\n",
       "      <th>50%</th>\n",
       "      <th>75%</th>\n",
       "      <th>max</th>\n",
       "    </tr>\n",
       "    <tr>\n",
       "      <th>attention_bothered</th>\n",
       "      <th></th>\n",
       "      <th></th>\n",
       "      <th></th>\n",
       "      <th></th>\n",
       "      <th></th>\n",
       "      <th></th>\n",
       "      <th></th>\n",
       "      <th></th>\n",
       "      <th></th>\n",
       "      <th></th>\n",
       "      <th></th>\n",
       "      <th></th>\n",
       "      <th></th>\n",
       "      <th></th>\n",
       "      <th></th>\n",
       "      <th></th>\n",
       "      <th></th>\n",
       "      <th></th>\n",
       "      <th></th>\n",
       "      <th></th>\n",
       "      <th></th>\n",
       "      <th></th>\n",
       "      <th></th>\n",
       "      <th></th>\n",
       "      <th></th>\n",
       "      <th></th>\n",
       "      <th></th>\n",
       "      <th></th>\n",
       "      <th></th>\n",
       "      <th></th>\n",
       "      <th></th>\n",
       "      <th></th>\n",
       "      <th></th>\n",
       "      <th></th>\n",
       "      <th></th>\n",
       "      <th></th>\n",
       "      <th></th>\n",
       "      <th></th>\n",
       "      <th></th>\n",
       "      <th></th>\n",
       "    </tr>\n",
       "  </thead>\n",
       "  <tbody>\n",
       "    <tr>\n",
       "      <th>False</th>\n",
       "      <td>14.0</td>\n",
       "      <td>7.857143</td>\n",
       "      <td>7.230886</td>\n",
       "      <td>0.0</td>\n",
       "      <td>2.25</td>\n",
       "      <td>6.0</td>\n",
       "      <td>12.25</td>\n",
       "      <td>25.0</td>\n",
       "      <td>14.0</td>\n",
       "      <td>2.857143</td>\n",
       "      <td>3.207135</td>\n",
       "      <td>0.0</td>\n",
       "      <td>1.0</td>\n",
       "      <td>2.0</td>\n",
       "      <td>3.0</td>\n",
       "      <td>11.0</td>\n",
       "      <td>14.0</td>\n",
       "      <td>2.0</td>\n",
       "      <td>2.112235</td>\n",
       "      <td>0.0</td>\n",
       "      <td>1.00</td>\n",
       "      <td>1.5</td>\n",
       "      <td>2.00</td>\n",
       "      <td>7.0</td>\n",
       "      <td>14.0</td>\n",
       "      <td>8.285714</td>\n",
       "      <td>7.226325</td>\n",
       "      <td>0.0</td>\n",
       "      <td>2.25</td>\n",
       "      <td>7.5</td>\n",
       "      <td>13.75</td>\n",
       "      <td>20.0</td>\n",
       "      <td>14.0</td>\n",
       "      <td>21.0</td>\n",
       "      <td>18.021355</td>\n",
       "      <td>0.0</td>\n",
       "      <td>6.25</td>\n",
       "      <td>17.0</td>\n",
       "      <td>34.00</td>\n",
       "      <td>62.0</td>\n",
       "    </tr>\n",
       "    <tr>\n",
       "      <th>True</th>\n",
       "      <td>2.0</td>\n",
       "      <td>14.500000</td>\n",
       "      <td>3.535534</td>\n",
       "      <td>12.0</td>\n",
       "      <td>13.25</td>\n",
       "      <td>14.5</td>\n",
       "      <td>15.75</td>\n",
       "      <td>17.0</td>\n",
       "      <td>2.0</td>\n",
       "      <td>6.000000</td>\n",
       "      <td>1.414214</td>\n",
       "      <td>5.0</td>\n",
       "      <td>5.5</td>\n",
       "      <td>6.0</td>\n",
       "      <td>6.5</td>\n",
       "      <td>7.0</td>\n",
       "      <td>2.0</td>\n",
       "      <td>4.5</td>\n",
       "      <td>6.363961</td>\n",
       "      <td>0.0</td>\n",
       "      <td>2.25</td>\n",
       "      <td>4.5</td>\n",
       "      <td>6.75</td>\n",
       "      <td>9.0</td>\n",
       "      <td>2.0</td>\n",
       "      <td>17.500000</td>\n",
       "      <td>0.707107</td>\n",
       "      <td>17.0</td>\n",
       "      <td>17.25</td>\n",
       "      <td>17.5</td>\n",
       "      <td>17.75</td>\n",
       "      <td>18.0</td>\n",
       "      <td>2.0</td>\n",
       "      <td>42.5</td>\n",
       "      <td>10.606602</td>\n",
       "      <td>35.0</td>\n",
       "      <td>38.75</td>\n",
       "      <td>42.5</td>\n",
       "      <td>46.25</td>\n",
       "      <td>50.0</td>\n",
       "    </tr>\n",
       "  </tbody>\n",
       "</table>\n",
       "</div>"
      ],
      "text/plain": [
       "                   inattention_sum                                          \\\n",
       "                             count       mean       std   min    25%   50%   \n",
       "attention_bothered                                                           \n",
       "False                         14.0   7.857143  7.230886   0.0   2.25   6.0   \n",
       "True                           2.0  14.500000  3.535534  12.0  13.25  14.5   \n",
       "\n",
       "                                hyperactivity_sum                           \\\n",
       "                      75%   max             count      mean       std  min   \n",
       "attention_bothered                                                           \n",
       "False               12.25  25.0              14.0  2.857143  3.207135  0.0   \n",
       "True                15.75  17.0               2.0  6.000000  1.414214  5.0   \n",
       "\n",
       "                                        impulsivity_sum                      \\\n",
       "                    25%  50%  75%   max           count mean       std  min   \n",
       "attention_bothered                                                            \n",
       "False               1.0  2.0  3.0  11.0            14.0  2.0  2.112235  0.0   \n",
       "True                5.5  6.0  6.5   7.0             2.0  4.5  6.363961  0.0   \n",
       "\n",
       "                                         sct_sum                             \\\n",
       "                     25%  50%   75%  max   count       mean       std   min   \n",
       "attention_bothered                                                            \n",
       "False               1.00  1.5  2.00  7.0    14.0   8.285714  7.226325   0.0   \n",
       "True                2.25  4.5  6.75  9.0     2.0  17.500000  0.707107  17.0   \n",
       "\n",
       "                                             baars_sum                         \\\n",
       "                      25%   50%    75%   max     count  mean        std   min   \n",
       "attention_bothered                                                              \n",
       "False                2.25   7.5  13.75  20.0      14.0  21.0  18.021355   0.0   \n",
       "True                17.25  17.5  17.75  18.0       2.0  42.5  10.606602  35.0   \n",
       "\n",
       "                                              \n",
       "                      25%   50%    75%   max  \n",
       "attention_bothered                            \n",
       "False                6.25  17.0  34.00  62.0  \n",
       "True                38.75  42.5  46.25  50.0  "
      ]
     },
     "execution_count": 146,
     "metadata": {},
     "output_type": "execute_result"
    }
   ],
   "source": [
    "ok_dat.groupby('attention_bothered')[baars_score_cols].describe()"
   ]
  },
  {
   "cell_type": "code",
   "execution_count": 136,
   "id": "cdd01b8b-cae5-44af-aee1-6cbf3532695a",
   "metadata": {},
   "outputs": [
    {
     "data": {
      "text/html": [
       "<div>\n",
       "<style scoped>\n",
       "    .dataframe tbody tr th:only-of-type {\n",
       "        vertical-align: middle;\n",
       "    }\n",
       "\n",
       "    .dataframe tbody tr th {\n",
       "        vertical-align: top;\n",
       "    }\n",
       "\n",
       "    .dataframe thead tr th {\n",
       "        text-align: left;\n",
       "    }\n",
       "\n",
       "    .dataframe thead tr:last-of-type th {\n",
       "        text-align: right;\n",
       "    }\n",
       "</style>\n",
       "<table border=\"1\" class=\"dataframe\">\n",
       "  <thead>\n",
       "    <tr>\n",
       "      <th></th>\n",
       "      <th></th>\n",
       "      <th colspan=\"8\" halign=\"left\">phq_sum</th>\n",
       "      <th colspan=\"8\" halign=\"left\">gad_sum</th>\n",
       "    </tr>\n",
       "    <tr>\n",
       "      <th></th>\n",
       "      <th></th>\n",
       "      <th>count</th>\n",
       "      <th>mean</th>\n",
       "      <th>std</th>\n",
       "      <th>min</th>\n",
       "      <th>25%</th>\n",
       "      <th>50%</th>\n",
       "      <th>75%</th>\n",
       "      <th>max</th>\n",
       "      <th>count</th>\n",
       "      <th>mean</th>\n",
       "      <th>std</th>\n",
       "      <th>min</th>\n",
       "      <th>25%</th>\n",
       "      <th>50%</th>\n",
       "      <th>75%</th>\n",
       "      <th>max</th>\n",
       "    </tr>\n",
       "    <tr>\n",
       "      <th>mood_bothered</th>\n",
       "      <th>anxiety_bothered</th>\n",
       "      <th></th>\n",
       "      <th></th>\n",
       "      <th></th>\n",
       "      <th></th>\n",
       "      <th></th>\n",
       "      <th></th>\n",
       "      <th></th>\n",
       "      <th></th>\n",
       "      <th></th>\n",
       "      <th></th>\n",
       "      <th></th>\n",
       "      <th></th>\n",
       "      <th></th>\n",
       "      <th></th>\n",
       "      <th></th>\n",
       "      <th></th>\n",
       "    </tr>\n",
       "  </thead>\n",
       "  <tbody>\n",
       "    <tr>\n",
       "      <th rowspan=\"2\" valign=\"top\">False</th>\n",
       "      <th>False</th>\n",
       "      <td>14.0</td>\n",
       "      <td>6.142857</td>\n",
       "      <td>6.689339</td>\n",
       "      <td>0.0</td>\n",
       "      <td>1.00</td>\n",
       "      <td>3.5</td>\n",
       "      <td>10.75</td>\n",
       "      <td>20.0</td>\n",
       "      <td>14.0</td>\n",
       "      <td>5.000000</td>\n",
       "      <td>5.392302</td>\n",
       "      <td>0.0</td>\n",
       "      <td>0.25</td>\n",
       "      <td>2.5</td>\n",
       "      <td>10.75</td>\n",
       "      <td>14.0</td>\n",
       "    </tr>\n",
       "    <tr>\n",
       "      <th>True</th>\n",
       "      <td>4.0</td>\n",
       "      <td>6.250000</td>\n",
       "      <td>5.057997</td>\n",
       "      <td>0.0</td>\n",
       "      <td>3.75</td>\n",
       "      <td>6.5</td>\n",
       "      <td>9.00</td>\n",
       "      <td>12.0</td>\n",
       "      <td>4.0</td>\n",
       "      <td>8.750000</td>\n",
       "      <td>5.909033</td>\n",
       "      <td>3.0</td>\n",
       "      <td>4.50</td>\n",
       "      <td>8.0</td>\n",
       "      <td>12.25</td>\n",
       "      <td>16.0</td>\n",
       "    </tr>\n",
       "    <tr>\n",
       "      <th rowspan=\"2\" valign=\"top\">True</th>\n",
       "      <th>False</th>\n",
       "      <td>1.0</td>\n",
       "      <td>5.000000</td>\n",
       "      <td>NaN</td>\n",
       "      <td>5.0</td>\n",
       "      <td>5.00</td>\n",
       "      <td>5.0</td>\n",
       "      <td>5.00</td>\n",
       "      <td>5.0</td>\n",
       "      <td>1.0</td>\n",
       "      <td>2.000000</td>\n",
       "      <td>NaN</td>\n",
       "      <td>2.0</td>\n",
       "      <td>2.00</td>\n",
       "      <td>2.0</td>\n",
       "      <td>2.00</td>\n",
       "      <td>2.0</td>\n",
       "    </tr>\n",
       "    <tr>\n",
       "      <th>True</th>\n",
       "      <td>6.0</td>\n",
       "      <td>17.333333</td>\n",
       "      <td>3.777124</td>\n",
       "      <td>11.0</td>\n",
       "      <td>16.25</td>\n",
       "      <td>17.5</td>\n",
       "      <td>19.50</td>\n",
       "      <td>22.0</td>\n",
       "      <td>6.0</td>\n",
       "      <td>14.166667</td>\n",
       "      <td>1.722401</td>\n",
       "      <td>12.0</td>\n",
       "      <td>13.25</td>\n",
       "      <td>14.0</td>\n",
       "      <td>14.75</td>\n",
       "      <td>17.0</td>\n",
       "    </tr>\n",
       "  </tbody>\n",
       "</table>\n",
       "</div>"
      ],
      "text/plain": [
       "                               phq_sum                                    \\\n",
       "                                 count       mean       std   min    25%   \n",
       "mood_bothered anxiety_bothered                                             \n",
       "False         False               14.0   6.142857  6.689339   0.0   1.00   \n",
       "              True                 4.0   6.250000  5.057997   0.0   3.75   \n",
       "True          False                1.0   5.000000       NaN   5.0   5.00   \n",
       "              True                 6.0  17.333333  3.777124  11.0  16.25   \n",
       "\n",
       "                                                  gad_sum             \\\n",
       "                                 50%    75%   max   count       mean   \n",
       "mood_bothered anxiety_bothered                                         \n",
       "False         False              3.5  10.75  20.0    14.0   5.000000   \n",
       "              True               6.5   9.00  12.0     4.0   8.750000   \n",
       "True          False              5.0   5.00   5.0     1.0   2.000000   \n",
       "              True              17.5  19.50  22.0     6.0  14.166667   \n",
       "\n",
       "                                                                          \n",
       "                                     std   min    25%   50%    75%   max  \n",
       "mood_bothered anxiety_bothered                                            \n",
       "False         False             5.392302   0.0   0.25   2.5  10.75  14.0  \n",
       "              True              5.909033   3.0   4.50   8.0  12.25  16.0  \n",
       "True          False                  NaN   2.0   2.00   2.0   2.00   2.0  \n",
       "              True              1.722401  12.0  13.25  14.0  14.75  17.0  "
      ]
     },
     "execution_count": 136,
     "metadata": {},
     "output_type": "execute_result"
    }
   ],
   "source": [
    "dat.groupby(['mood_bothered', 'anxiety_bothered'])[['phq_sum','gad_sum']].describe()"
   ]
  },
  {
   "cell_type": "code",
   "execution_count": 123,
   "id": "f472aa50-dc01-426c-af3d-cad90964d744",
   "metadata": {},
   "outputs": [
    {
     "data": {
      "text/plain": [
       "0     131\n",
       "1      38\n",
       "2      20\n",
       "3     137\n",
       "4     119\n",
       "5     101\n",
       "6      38\n",
       "7      78\n",
       "8      80\n",
       "9      74\n",
       "10     29\n",
       "11    130\n",
       "12     49\n",
       "13    120\n",
       "14     63\n",
       "15     27\n",
       "16     55\n",
       "17     78\n",
       "18    126\n",
       "19    109\n",
       "20    134\n",
       "21    120\n",
       "22     50\n",
       "23    121\n",
       "24     34\n",
       "dtype: int64"
      ]
     },
     "execution_count": 123,
     "metadata": {},
     "output_type": "execute_result"
    }
   ],
   "source": [
    "dat.loc[:, cols].sum(1)"
   ]
  },
  {
   "cell_type": "code",
   "execution_count": 67,
   "id": "24908a7c-e5a2-4319-a509-fc17b14d5b5f",
   "metadata": {},
   "outputs": [
    {
     "data": {
      "text/plain": [
       "5     36\n",
       "7     34\n",
       "11    33\n",
       "12    27\n",
       "13    40\n",
       "20    40\n",
       "21    39\n",
       "dtype: int64"
      ]
     },
     "execution_count": 67,
     "metadata": {},
     "output_type": "execute_result"
    }
   ],
   "source": [
    "dat.loc[dat.mood_bothered, dat.columns.str.contains('phq')].sum(1)"
   ]
  },
  {
   "cell_type": "code",
   "execution_count": 66,
   "id": "6d3090cb-6a15-47d8-9386-8e4fc5aa57f3",
   "metadata": {},
   "outputs": [
    {
     "data": {
      "text/plain": [
       "0     32\n",
       "1     24\n",
       "2     24\n",
       "3     33\n",
       "4     30\n",
       "6     24\n",
       "8     27\n",
       "9     28\n",
       "10    25\n",
       "14    24\n",
       "15    24\n",
       "16    27\n",
       "17    31\n",
       "18    38\n",
       "19    34\n",
       "22    24\n",
       "23    38\n",
       "24    25\n",
       "dtype: int64"
      ]
     },
     "execution_count": 66,
     "metadata": {},
     "output_type": "execute_result"
    }
   ],
   "source": [
    "dat.loc[~dat.mood_bothered, dat.columns.str.contains('phq')].sum(1)"
   ]
  },
  {
   "cell_type": "code",
   "execution_count": 72,
   "id": "a706953d-e767-41d3-a1ac-f3dd805b64b7",
   "metadata": {},
   "outputs": [
    {
     "data": {
      "text/plain": [
       "0     34\n",
       "5     31\n",
       "6     22\n",
       "7     30\n",
       "8     22\n",
       "11    30\n",
       "13    32\n",
       "19    31\n",
       "20    32\n",
       "21    34\n",
       "dtype: int64"
      ]
     },
     "execution_count": 72,
     "metadata": {},
     "output_type": "execute_result"
    }
   ],
   "source": [
    "dat.loc[dat.anxiety_bothered, dat.columns.str.contains('gad')].sum(1)"
   ]
  },
  {
   "cell_type": "code",
   "execution_count": 73,
   "id": "f8399490-e6fb-4403-8bda-c77181ca3e23",
   "metadata": {},
   "outputs": [
    {
     "data": {
      "text/plain": [
       "1     21\n",
       "2     21\n",
       "3     32\n",
       "4     28\n",
       "9     24\n",
       "10    22\n",
       "12    23\n",
       "14    24\n",
       "15    21\n",
       "16    23\n",
       "17    26\n",
       "18    28\n",
       "22    21\n",
       "23    31\n",
       "24    22\n",
       "dtype: int64"
      ]
     },
     "execution_count": 73,
     "metadata": {},
     "output_type": "execute_result"
    }
   ],
   "source": [
    "dat.loc[~dat.anxiety_bothered, dat.columns.str.contains('gad')].sum(1)"
   ]
  },
  {
   "cell_type": "code",
   "execution_count": 76,
   "id": "37122ee2-888f-4a07-9065-08cc63329ba3",
   "metadata": {},
   "outputs": [
    {
     "data": {
      "text/plain": [
       "0     0.0\n",
       "1     0.0\n",
       "2     0.0\n",
       "3     0.0\n",
       "5     0.0\n",
       "6     0.0\n",
       "7     0.0\n",
       "9     0.0\n",
       "10    0.0\n",
       "11    0.0\n",
       "12    0.0\n",
       "13    0.0\n",
       "14    0.0\n",
       "15    0.0\n",
       "16    0.0\n",
       "17    0.0\n",
       "18    0.0\n",
       "19    0.0\n",
       "20    0.0\n",
       "22    0.0\n",
       "23    0.0\n",
       "24    0.0\n",
       "dtype: float64"
      ]
     },
     "execution_count": 76,
     "metadata": {},
     "output_type": "execute_result"
    }
   ],
   "source": [
    "dat.loc[~dat.attention_bothered, dat.columns.str.contains('baars')].sum(1)"
   ]
  },
  {
   "cell_type": "code",
   "execution_count": 78,
   "id": "ad2139c1-9b1d-4358-b4b9-4f788a12a69f",
   "metadata": {},
   "outputs": [
    {
     "data": {
      "text/plain": [
       "array([False, False, False, False, False, False, False, False, False,\n",
       "       False, False, False, False, False, False, False, False, False,\n",
       "       False, False, False, False, False, False, False, False, False,\n",
       "       False, False, False, False, False, False, False, False, False,\n",
       "       False, False, False, False, False, False, False, False, False,\n",
       "       False, False, False, False, False, False, False, False, False,\n",
       "       False, False, False, False, False, False, False, False, False,\n",
       "       False, False, False, False, False, False, False, False, False,\n",
       "       False, False, False, False, False, False, False, False, False,\n",
       "       False, False, False, False, False, False, False, False, False,\n",
       "       False, False, False, False,  True,  True,  True,  True,  True,\n",
       "        True,  True,  True,  True, False, False, False, False, False,\n",
       "       False, False, False, False, False, False, False, False, False,\n",
       "       False, False, False, False, False, False, False, False, False,\n",
       "       False, False, False, False, False, False, False, False, False,\n",
       "       False, False, False, False, False, False, False, False, False,\n",
       "       False, False, False, False, False, False, False, False, False,\n",
       "       False, False, False, False, False, False, False, False, False,\n",
       "       False, False, False, False, False, False, False, False, False,\n",
       "       False, False, False, False, False, False, False, False, False,\n",
       "       False, False, False, False, False, False, False, False, False,\n",
       "       False, False, False, False, False, False, False, False, False,\n",
       "       False, False, False, False, False, False, False, False, False,\n",
       "       False, False, False, False, False, False, False, False, False,\n",
       "       False, False, False, False, False, False, False, False, False,\n",
       "        True,  True,  True,  True,  True,  True,  True,  True,  True,\n",
       "       False, False, False, False, False, False, False, False, False,\n",
       "       False, False, False, False, False, False, False, False, False,\n",
       "       False, False, False, False, False, False, False, False, False,\n",
       "       False, False, False, False, False, False, False, False, False,\n",
       "       False, False, False, False, False, False, False, False, False,\n",
       "       False, False, False, False, False, False, False, False, False,\n",
       "       False, False, False, False, False, False, False, False, False,\n",
       "       False, False, False, False, False, False, False, False, False,\n",
       "       False, False, False, False, False, False, False, False, False,\n",
       "       False, False, False, False, False, False, False, False, False,\n",
       "       False, False, False, False, False, False, False, False, False,\n",
       "       False, False, False, False, False, False, False, False, False,\n",
       "       False, False, False, False, False, False, False, False, False,\n",
       "       False, False, False, False, False, False, False, False, False,\n",
       "       False, False, False, False, False, False, False, False, False,\n",
       "       False, False, False, False, False, False, False, False, False,\n",
       "       False, False, False, False, False, False, False])"
      ]
     },
     "execution_count": 78,
     "metadata": {},
     "output_type": "execute_result"
    }
   ],
   "source": [
    "dat.columns.str.contains('inattention')"
   ]
  },
  {
   "cell_type": "code",
   "execution_count": 80,
   "id": "596dce46-e12a-43db-8a6f-7dcc303d7e14",
   "metadata": {},
   "outputs": [
    {
     "data": {
      "text/plain": [
       "0     37\n",
       "1     27\n",
       "2     27\n",
       "3     36\n",
       "5     43\n",
       "6     28\n",
       "7     37\n",
       "9     31\n",
       "10    33\n",
       "11    35\n",
       "12    33\n",
       "13    37\n",
       "14    34\n",
       "15    27\n",
       "16    28\n",
       "17    30\n",
       "18    33\n",
       "19    30\n",
       "20    49\n",
       "22    30\n",
       "23    38\n",
       "24    31\n",
       "dtype: int64"
      ]
     },
     "execution_count": 80,
     "metadata": {},
     "output_type": "execute_result"
    }
   ],
   "source": [
    "dat.loc[~dat.attention_bothered, dat.columns.str.contains('inattention')].sum(1)"
   ]
  },
  {
   "cell_type": "code",
   "execution_count": null,
   "id": "a0c1d5dc-4742-41ca-a84b-4c4ddbe244fd",
   "metadata": {},
   "outputs": [],
   "source": []
  }
 ],
 "metadata": {
  "@webio": {
   "lastCommId": null,
   "lastKernelId": null
  },
  "kernelspec": {
   "display_name": "Python 3 (ipykernel)",
   "language": "python",
   "name": "python3"
  },
  "language_info": {
   "codemirror_mode": {
    "name": "ipython",
    "version": 3
   },
   "file_extension": ".py",
   "mimetype": "text/x-python",
   "name": "python",
   "nbconvert_exporter": "python",
   "pygments_lexer": "ipython3",
   "version": "3.9.17"
  }
 },
 "nbformat": 4,
 "nbformat_minor": 5
}
